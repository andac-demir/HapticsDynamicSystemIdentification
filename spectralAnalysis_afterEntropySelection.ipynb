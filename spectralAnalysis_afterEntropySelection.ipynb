{
 "cells": [
  {
   "cell_type": "markdown",
   "metadata": {},
   "source": [
    "# System Identification in Frequency Domain"
   ]
  },
  {
   "cell_type": "code",
   "execution_count": 1,
   "metadata": {
    "scrolled": true
   },
   "outputs": [],
   "source": [
    "import os\n",
    "import sys\n",
    "import pywt\n",
    "import itertools\n",
    "from itertools import zip_longest\n",
    "import numpy as np\n",
    "from numpy.linalg import norm\n",
    "import math\n",
    "import pandas as pd\n",
    "from IPython.display import display\n",
    "pd.options.display.max_columns = None\n",
    "from scipy.fftpack import fft\n",
    "from scipy.signal import welch\n",
    "from scipy.stats import ranksums\n",
    "from collections import Counter\n",
    "import matplotlib.pyplot as plt\n",
    "import matplotlib.gridspec as gridspec\n",
    "from mpl_toolkits.axes_grid1 import make_axes_locatable\n",
    "from statsmodels.tsa.api import VAR\n",
    "from tqdm import tqdm_notebook\n",
    "from IPython.core.debugger import set_trace\n",
    "import warnings\n",
    "warnings.filterwarnings('ignore')\n",
    "\n",
    "import matplotlib.pyplot as plt\n",
    "import matplotlib.gridspec as gridspec\n",
    "import matplotlib.patches as patches\n",
    "from matplotlib.ticker import FormatStrFormatter\n",
    "\n",
    "from scipy.io import loadmat\n",
    "import seaborn as sns\n",
    "from math import floor\n",
    "import tkinter as tk\n",
    "import decimal\n",
    "from sklearn.metrics import mean_squared_error as mse\n",
    "from sklearn.metrics import mean_absolute_error as mae\n",
    "import concurrent.futures # for parallel processing\n",
    "import glob\n",
    "import pickle"
   ]
  },
  {
   "cell_type": "markdown",
   "metadata": {},
   "source": [
    "# Loading The Dataset (Trial by Trial)"
   ]
  },
  {
   "cell_type": "code",
   "execution_count": 2,
   "metadata": {},
   "outputs": [],
   "source": [
    "# Get the participant data from Dataset directory\n",
    "global t0, fs, dt, num_eeg_ch, num_emg_ch, num_force_ch, num_ch, num_conds\n",
    "t0 = 0\n",
    "fs = 1200\n",
    "dt = 1.0/fs\n",
    "num_eeg_ch = 14\n",
    "num_emg_ch = 4\n",
    "num_force_ch = 3\n",
    "num_ch = num_eeg_ch + num_emg_ch + num_force_ch\n",
    "num_conds = 18\n",
    "\n",
    "# Get a list of files to process\n",
    "data_files = list(map(loadmat, glob.glob(\"Dataset/*.mat\")))\n",
    "num_participants = len(data_files)\n",
    "\n",
    "columns=['EEG-1','EEG-2','EEG-3','EEG-4','EEG-5',\n",
    "         'EEG-6','EEG-7','EEG-8','EEG-9','EEG-10',\n",
    "         'EEG-11','EEG-12','EEG-13','EEG-14','EMG-1',\n",
    "         'EMG-2','EMG-3','EMG-4','Force-x', \n",
    "         'Force-y','Force-z']"
   ]
  },
  {
   "cell_type": "code",
   "execution_count": null,
   "metadata": {
    "scrolled": true
   },
   "outputs": [],
   "source": [
    "def extract_data(file):\n",
    "    data_splitBy_trials = [] # list of data frames, each df corresponding to a trial\n",
    "\n",
    "    for cond in tqdm_notebook(range(num_conds), ascii=True):\n",
    "        num_trials = file['EEGSeg_Ch'][0,0][0,cond].shape[0]\n",
    "        # if a trial has long enough samples\n",
    "        if file['EEGSeg_Ch'][0,0][0,cond].shape[1] >= 400:\n",
    "            for trial in range(num_trials): \n",
    "                data = pd.DataFrame(columns=columns)\n",
    "                for ch in range(num_eeg_ch):\n",
    "                    data.iloc[:,ch] = file['EEGSeg_Ch'][0,ch][0,cond][trial,:]\n",
    "                for ch in range(num_emg_ch):\n",
    "                    data.iloc[:,ch+num_eeg_ch] = file['EMGSeg_Ch'][0,ch][0,cond][trial,:]\n",
    "                for ch in range(num_force_ch):\n",
    "                    data.iloc[:,ch+num_eeg_ch+num_emg_ch] = file['ForceSeg_Ch'][0,ch][0,cond][trial,:]\n",
    "\n",
    "                # mean subtraction in each trial from the eeg and emg columns for removing dc drift\n",
    "                data.iloc[:,:18] -= data.iloc[:,:18].mean()\n",
    "                # convert volts to microvolts for EEG and EMG channels\n",
    "                data.iloc[:,:18] *= 1e6\n",
    "                # convert volts to milivolts for force channels\n",
    "                data.iloc[:,18:] *= 1e3  \n",
    "                data_splitBy_trials.append(data)\n",
    "                \n",
    "    train_data, test_data = train_test_split(data_splitBy_trials)\n",
    "    return train_data, test_data\n",
    "\n",
    "\n",
    "def train_test_split(data, train_ratio=0.33):\n",
    "    '''\n",
    "    with train ratio=x, we use x ratio of the trials from a participant for training \n",
    "    and other trials for testing\n",
    "    '''\n",
    "    num_train = int(train_ratio*len(data))\n",
    "    train_data, test_data = data[:num_train], data[num_train:]\n",
    "    return train_data, test_data\n",
    "\n",
    "\n",
    "train_data = [] # train data is a list (all participants each trial) of dataframes\n",
    "test_data = [] # test data is a list (each participant) of list (each trial) of dataframes \n",
    "\n",
    "print('Reading and processing in parallel.')\n",
    "\n",
    "# Create a pool of processes. By default, one is created for each CPU in your machine.\n",
    "with concurrent.futures.ProcessPoolExecutor() as executor:\n",
    "    # Process the list of files, but split the work across the process pool to use all CPUs.\n",
    "    # executor.map() function takes in the helper function to call and the list of data to process with it.\n",
    "    # executor.map() function returns results in  the same order as the list of data given to the process.\n",
    "    for train, test in tqdm_notebook(executor.map(extract_data, data_files), total=len(data_files)):\n",
    "        train_data.extend(train)\n",
    "        test_data.append(test)\n",
    "        \n",
    "total_trials = len(train_data)\n",
    "for test in test_data:\n",
    "    total_trials += len(test)\n",
    "print('Total number of trials of all the conditions in the file: %i' %total_trials) \n",
    "train_data[0].head(10) # first 10 samples of the first trial"
   ]
  },
  {
   "cell_type": "markdown",
   "metadata": {},
   "source": [
    "### Save Data"
   ]
  },
  {
   "cell_type": "code",
   "execution_count": null,
   "metadata": {},
   "outputs": [],
   "source": [
    "PIK1 ='VARResults/train_data.dat'\n",
    "PIK2 ='VARResults/test_data.dat'\n",
    "\n",
    "with open(PIK1, \"wb\") as f:\n",
    "    pickle.dump(train_data, f)\n",
    "    \n",
    "with open(PIK2, \"wb\") as f:\n",
    "    pickle.dump(test_data, f)"
   ]
  },
  {
   "cell_type": "markdown",
   "metadata": {},
   "source": [
    "### Load Data"
   ]
  },
  {
   "cell_type": "code",
   "execution_count": 3,
   "metadata": {},
   "outputs": [],
   "source": [
    "PIK1 ='VARResults/train_data.dat'\n",
    "PIK2 ='VARResults/test_data.dat'\n",
    "\n",
    "with open(PIK1, \"rb\") as f:\n",
    "    train_data = pickle.load(f)\n",
    "    \n",
    "with open(PIK2, \"rb\") as f:\n",
    "    test_data = pickle.load(f)"
   ]
  },
  {
   "cell_type": "code",
   "execution_count": null,
   "metadata": {
    "scrolled": true
   },
   "outputs": [],
   "source": [
    "trial_id = 40 # choose one trial\n",
    "num_samples = train_data[trial_id].shape[0]\n",
    "time = (np.arange(0, num_samples) * dt + t0) * 1e3\n",
    "# pick one channel from eeg, emg and force\n",
    "eeg_signal_1 = train_data[trial_id].iloc[:,0] # trial id, eeg_ch1\n",
    "emg_signal_1 = train_data[trial_id].iloc[:,14] # trial id, emg_ch1\n",
    "force_signal_3 = train_data[trial_id].iloc[:,20] # trial id, force_ch3"
   ]
  },
  {
   "cell_type": "markdown",
   "metadata": {},
   "source": [
    "# Visualization of The Dataset"
   ]
  },
  {
   "cell_type": "code",
   "execution_count": null,
   "metadata": {
    "scrolled": true
   },
   "outputs": [],
   "source": [
    "def get_ave_values(xvalues, yvalues, n):\n",
    "    signal_length = len(xvalues)\n",
    "    if signal_length % n == 0:\n",
    "        padding_length = 0\n",
    "    else:\n",
    "        padding_length = n - signal_length//n % n\n",
    "    xarr = np.array(xvalues)\n",
    "    yarr = np.array(yvalues)\n",
    "    xarr.resize(signal_length//n, n)\n",
    "    yarr.resize(signal_length//n, n)\n",
    "    xarr_reshaped = xarr.reshape((-1,n))\n",
    "    yarr_reshaped = yarr.reshape((-1,n))\n",
    "    x_ave = xarr_reshaped[:,0]\n",
    "    y_ave = np.nanmean(yarr_reshaped, axis=1)\n",
    "    return x_ave, y_ave\n",
    "\n",
    "def plot_signal_plus_average(ax, time, signal, average_over):\n",
    "    time_ave, signal_ave = get_ave_values(time, signal, average_over)\n",
    "    ax.plot(time, signal, label='signal')\n",
    "    ax.plot(time_ave, signal_ave, label = 'time average (n={})'.format(average_over))\n",
    "    ax.set_xlim([time[0], time[-1]])\n",
    "    ax.legend(loc='upper right')\n",
    "\n",
    "fig, axes = plt.subplots(3, figsize=(12,12))\n",
    "fig.subplots_adjust(hspace=0.3)\n",
    "plot_signal_plus_average(axes[0], time, eeg_signal_1, average_over=3)\n",
    "\n",
    "axes[0].set_ylabel('Amplitude (\\u03bcV)', fontsize=16)\n",
    "axes[0].set_title('EEG Channel-1', fontsize=16)\n",
    "plot_signal_plus_average(axes[1], time, emg_signal_1, average_over=3)\n",
    "\n",
    "axes[1].set_ylabel('Amplitude (\\u03bcV)', fontsize=16)\n",
    "axes[1].set_title('EMG Channel-1', fontsize=16)\n",
    "plot_signal_plus_average(axes[2], time, force_signal_3, average_over=3)\n",
    "\n",
    "axes[2].set_ylabel('Amplitude (mV)', fontsize=16)\n",
    "axes[2].set_xlabel('Time (sec)', fontsize=16)\n",
    "axes[2].set_title('Force Channel-3', fontsize=16)\n",
    "\n",
    "plt.show()"
   ]
  },
  {
   "cell_type": "markdown",
   "metadata": {},
   "source": [
    "# Fourier Transform of The Data"
   ]
  },
  {
   "cell_type": "code",
   "execution_count": null,
   "metadata": {
    "scrolled": true
   },
   "outputs": [],
   "source": [
    "def get_fft_values(y_values, T, N, f_s):\n",
    "    N2 = 2 ** (int(np.log2(N)) + 1) # round up to next highest power of 2\n",
    "    f_values = np.linspace(0.0, 1.0/(2.0*T), N2//2)\n",
    "    fft_values_ = fft(y_values)\n",
    "    fft_values = 2.0/N2 * np.abs(fft_values_[0:N2//2])\n",
    "    return f_values, fft_values\n",
    "\n",
    "def plot_fft_plus_power(axes, time, signal, N, fs=fs, dt=dt,\n",
    "                        plot_direction='horizontal', yticks=None, ylim=None):\n",
    "    variance = np.std(signal)**2\n",
    "    f_values, fft_values = get_fft_values(signal, dt, N, fs)\n",
    "    fft_power = variance * abs(fft_values) ** 2\n",
    "\n",
    "    if plot_direction == 'horizontal':\n",
    "        axes[0].plot(f_values, fft_values, 'r-', label='Fourier Transform')\n",
    "        axes[1].plot(f_values, fft_power, 'k--', linewidth=1, label='FFT Power Spectrum')\n",
    "    elif plot_direction == 'vertical':\n",
    "        scales = 1./f_values\n",
    "        scales_log = np.log2(scales)\n",
    "        axes[0].plot(fft_values, scales_log, 'r-', label='Fourier Transform')\n",
    "        axes[1].plot(fft_power, scales_log, 'k--', linewidth=1, label='FFT Power Spectrum')\n",
    "        axes[0].set_yticks(np.log2(yticks))\n",
    "        axes[0].set_yticklabels(yticks)\n",
    "        axes[0].invert_yaxis()\n",
    "        axes[0].set_ylim(ylim[0], -1)\n",
    "    axes[0].legend()\n",
    "    axes[1].legend()\n",
    "\n",
    "fig, axes = plt.subplots(6, figsize=(12,30))\n",
    "fig.subplots_adjust(hspace=0.3)\n",
    "axes[0].set_title('Fourier Transform - EEG Channel 1', fontsize=16)\n",
    "axes[1].set_title('FFT Power Spectrum - EEG Channel 1', fontsize=16)\n",
    "axes[0].set_ylabel('Amplitude (\\u03bcV)', fontsize=16)\n",
    "axes[1].set_ylabel('Amplitude', fontsize=16)\n",
    "plot_fft_plus_power([axes[0], axes[1]], time, eeg_signal_1, len(eeg_signal_1))\n",
    "\n",
    "axes[2].set_title('Fourier Transform - EMG Channel 1', fontsize=16)\n",
    "axes[3].set_title('FFT Power Spectrum - EMG Channel 1', fontsize=16)\n",
    "axes[2].set_ylabel('Amplitude (\\u03bcV)', fontsize=16)\n",
    "axes[3].set_ylabel('Amplitude', fontsize=16)\n",
    "plot_fft_plus_power([axes[2], axes[3]], time, emg_signal_1, len(emg_signal_1))\n",
    "\n",
    "axes[4].set_title('Fourier Transform - Force Channel 3', fontsize=16)\n",
    "axes[5].set_title('FFT Power Spectrum - Force Channel 3', fontsize=16)\n",
    "axes[4].set_ylabel('Amplitude (mV)', fontsize=16)\n",
    "axes[5].set_ylabel('Amplitude', fontsize=16)\n",
    "plot_fft_plus_power([axes[4], axes[5]], time, force_signal_3, len(force_signal_3))\n",
    "axes[5].set_xlabel('Frequency [Hz]', fontsize=16)\n",
    "\n",
    "plt.show()"
   ]
  },
  {
   "cell_type": "markdown",
   "metadata": {},
   "source": [
    "# Estimation of The Power Spectral Density Using Welch’s Method"
   ]
  },
  {
   "cell_type": "code",
   "execution_count": null,
   "metadata": {
    "scrolled": true
   },
   "outputs": [],
   "source": [
    "# Welch’s method computes an estimate of the power spectral density by dividing the data\n",
    "# into overlapping segments, computing a modified periodogram for each segment \n",
    "# and averaging the periodograms.\n",
    "\n",
    "# For the default ‘hanning’ window an overlap of 50% is a reasonable trade off \n",
    "# between accurately estimating the signal power, while not over counting any of the data. \n",
    "# Narrower windows may require a larger overlap.\n",
    "for counter, x in enumerate([eeg_signal_1, emg_signal_1, force_signal_3]):\n",
    "    f, Pxx_spec = welch(x, fs, 'hanning', len(x), scaling='spectrum')\n",
    "    plt.figure(figsize=(12,6))    \n",
    "    plt.semilogy(f, np.sqrt(Pxx_spec))\n",
    "    plt.xlabel('Frequency [Hz]')\n",
    "    if counter == 0:\n",
    "        plt.ylabel('EEG Channel 1 - Linear spectrum [\\u03bcV RMS]', fontsize=16)\n",
    "    elif counter == 1:\n",
    "        plt.ylabel('EMG Channel 1 - Linear spectrum [\\u03bcV RMS]', fontsize=16)\n",
    "    else:\n",
    "        plt.ylabel('Force Channel z - Linear spectrum [mV RMS]', fontsize=16)\n",
    "    plt.show()\n",
    "    \n",
    "# The peak height in the power spectrum is an estimate of the RMS amplitude."
   ]
  },
  {
   "cell_type": "markdown",
   "metadata": {},
   "source": [
    "# Discrete Wavelet Transform Coefficients (5 levels)"
   ]
  },
  {
   "cell_type": "code",
   "execution_count": null,
   "metadata": {
    "scrolled": true
   },
   "outputs": [],
   "source": [
    "# cA: approximation coefficients (low frquency components)\n",
    "# cD: detail coefficients (high frequency components)\n",
    "l = 5 # wavelet decomposition levels\n",
    "(cA5_eeg1, cD5_eeg1, cD4_eeg1, cD3_eeg1, cD2_eeg1, cD1_eeg1) = pywt.wavedec(eeg_signal_1, 'db4', level=l)\n",
    "(cA5_emg1, cD5_emg1, cD4_emg1, cD3_emg1, cD2_emg1, cD1_emg1) = pywt.wavedec(emg_signal_1, 'db4', level=l)\n",
    "(cA5_force3, cD5_force3, cD4_force3, cD3_force3, cD2_force3, cD1_force3) = pywt.wavedec(force_signal_3, 'db4', level=l)\n",
    "\n",
    "list_of_coeffs = [cA5_eeg1, cD5_eeg1, cD4_eeg1, cD3_eeg1, cD2_eeg1, cD1_eeg1, \n",
    "                  cA5_emg1, cD5_emg1, cD4_emg1, cD3_emg1, cD2_emg1, cD1_emg1, \n",
    "                  cA5_force3, cD5_force3, cD4_force3, cD3_force3, cD2_force3, cD1_force3]\n",
    "\n",
    "# Plot a histogram and kernel density estimate of wavelet coefficients\n",
    "def hist_dwtCoeffs(list_of_coeffs, level=l):\n",
    "    sns.set(style=\"white\", palette=\"muted\", color_codes=True)\n",
    "    fig, axes = plt.subplots(3, level+1, figsize=(32,16), sharex=False)\n",
    "    for i, coeffs in enumerate(list_of_coeffs):\n",
    "        sns.distplot(coeffs, bins=40, ax=axes[floor(i/(l+1)), i%(l+1)])\n",
    "        axes[floor(i/(l+1)), i%(l+1)].tick_params(axis='both', which='major', labelsize=22)\n",
    "\n",
    "    axes[0, 0].set_title('cA-5 EEG', fontsize=30) \n",
    "    axes[0, 1].set_title('cD-5 EEG', fontsize=30)   \n",
    "    axes[0, 2].set_title('cD-4 EEG', fontsize=30)   \n",
    "    axes[0, 3].set_title('cD-3 EEG', fontsize=30)  \n",
    "    axes[0, 4].set_title('cD-2 EEG', fontsize=30)  \n",
    "    axes[0, 5].set_title('cD-1 EEG', fontsize=30)  \n",
    "    \n",
    "    axes[1, 0].set_title('cA-5 EMG', fontsize=30) \n",
    "    axes[1, 1].set_title('cD-5 EMG', fontsize=30) \n",
    "    axes[1, 2].set_title('cD-4 EMG', fontsize=30) \n",
    "    axes[1, 3].set_title('cD-3 EMG', fontsize=30)    \n",
    "    axes[1, 4].set_title('cD-2 EMG', fontsize=30)  \n",
    "    axes[1, 5].set_title('cD-1 EMG', fontsize=30)    \n",
    "    \n",
    "    axes[2, 0].set_title('cA-5 Force-z', fontsize=30) \n",
    "    axes[2, 1].set_title('cD-4 Force-z', fontsize=30) \n",
    "    axes[2, 2].set_title('cD-4 Force-z', fontsize=30) \n",
    "    axes[2, 3].set_title('cD-3 Force-z', fontsize=30)  \n",
    "    axes[2, 4].set_title('cD-2 Force-z', fontsize=30) \n",
    "    axes[2, 5].set_title('cD-1 Force-z', fontsize=30)  \n",
    "    axes[2, 0].set_xlim([-350, 20])\n",
    "\n",
    "    plt.tight_layout()\n",
    "    plt.savefig(\"VARResults/hist_of_wavelets.pdf\", bbox_inches=\"tight\")\n",
    "    \n",
    "hist_dwtCoeffs(list_of_coeffs)"
   ]
  },
  {
   "cell_type": "markdown",
   "metadata": {},
   "source": [
    "Length of approximation and detail coefficients is 3 samples longer than half the length \n",
    "of the given signal. If the signal length is odd, half the signal length is rounded up."
   ]
  },
  {
   "cell_type": "markdown",
   "metadata": {},
   "source": [
    "# Parsimonity of Transform"
   ]
  },
  {
   "cell_type": "markdown",
   "metadata": {},
   "source": [
    "### a) Reconstruction Without Compression"
   ]
  },
  {
   "cell_type": "code",
   "execution_count": null,
   "metadata": {
    "scrolled": true
   },
   "outputs": [],
   "source": [
    "def get_reconstruction_score(original_sig, reconstructed_sig):\n",
    "    return 100 * (norm(reconstructed_sig) ** 2 / norm(original_sig) ** 2)\n",
    "    \n",
    "scores = []\n",
    "reconstructed_sigs_level5 = []\n",
    "reconstructed_sigs_level4 = []\n",
    "reconstructed_sigs_level3 = []\n",
    "reconstructed_sigs_level2 = []\n",
    "reconstructed_sigs = []\n",
    "\n",
    "# Plot the reconstructed signals and show reconstruction scores\n",
    "fig, axes = plt.subplots(3, figsize=(12,12), sharex=False)\n",
    "for i, signal in enumerate([eeg_signal_1, emg_signal_1, force_signal_3]):\n",
    "    axes[i].plot(time, signal, label='original')\n",
    "    (cA5, cD5, cD4, cD3, cD2, cD1) = pywt.wavedec(signal, 'db4', level=5)\n",
    "    reconstructed_sigs_level5.append(pywt.idwt(cA5, cD5, 'db4'))\n",
    "    reconstructed_sigs_level4.append(pywt.idwt(reconstructed_sigs_level5[-1][:-1], cD4, 'db4'))  \n",
    "    reconstructed_sigs_level3.append(pywt.idwt(reconstructed_sigs_level4[-1][:], cD3, 'db4'))  \n",
    "    reconstructed_sigs_level2.append(pywt.idwt(reconstructed_sigs_level3[-1][:-1], cD2, 'db4'))  \n",
    "    reconstructed_sigs.append(pywt.idwt(reconstructed_sigs_level2[-1][:], cD1, 'db4'))  \n",
    "    scores.append(get_reconstruction_score(signal, reconstructed_sigs[-1][:-1]))\n",
    "\n",
    "for i, recon in enumerate(reconstructed_sigs):\n",
    "    axes[i].plot(time, recon[:-1], label='reconstructed')\n",
    "    axes[i].tick_params(axis='both', which='major', labelsize=16)\n",
    "    axes[i].legend(loc='upper right')\n",
    "    \n",
    "axes[0].set_title('Reconstruction EEG-1, score: %.1f' %scores[0]+'%', fontsize=16) \n",
    "axes[0].set_ylabel('Amplitude (\\u03bcV)', fontsize=16)\n",
    "axes[1].set_title('Reconstruction EMG-1, score: %.1f' %scores[1]+'%', fontsize=16)     \n",
    "axes[1].set_ylabel('Amplitude (\\u03bcV)', fontsize=16)\n",
    "axes[2].set_title('Reconstruction Force-z, score: %.1f' %scores[2]+'%', fontsize=16) \n",
    "axes[2].set_ylabel('Amplitude (mV)', fontsize=16)\n",
    "axes[2].set_xlabel('Time (sec)', fontsize=16)\n",
    "\n",
    "plt.tight_layout()"
   ]
  },
  {
   "cell_type": "markdown",
   "metadata": {},
   "source": [
    "### b) Wavelet Data Compression by Thresholding (Soft)"
   ]
  },
  {
   "cell_type": "code",
   "execution_count": null,
   "metadata": {
    "scrolled": true
   },
   "outputs": [],
   "source": [
    "'''\n",
    "Soft thresholding sets the wavelet coefficients with absolute value below the threshold to 0 and\n",
    "other coefficients towards the origin by the magnitude of threshold.\n",
    "\n",
    "Hard thresholding just sets the wavelet coefficients with absolute value below the threshold to 0.\n",
    "'''\n",
    "thresholded_list_of_coeffs = []\n",
    "\n",
    "def threshold_coeffs(coeffs, threshold=1.0, soft=True): # set threshold 0.2 for emg channels.\n",
    "    if soft == True:\n",
    "        return [0 if abs(coef)<threshold else coef-np.sign(coef)*threshold for coef in coeffs]\n",
    "    else:\n",
    "        return [0 if abs(coef)<threshold else coef for coef in coeffs]\n",
    "\n",
    "for coeffs in list_of_coeffs:\n",
    "    thresholded_list_of_coeffs.append(threshold_coeffs(coeffs))\n",
    "\n",
    "hist_dwtCoeffs(thresholded_list_of_coeffs)\n",
    "\n",
    "# Plot the reconstructed signals and show reconstruction scores\n",
    "scores, reconstructed_sigs = [], []\n",
    "fig, axes = plt.subplots(3, figsize=(12,12), sharex=False)\n",
    "\n",
    "for i, signal in enumerate([eeg_signal_1, emg_signal_1, force_signal_3]):\n",
    "    axes[i].plot(time, signal, label='original')\n",
    "    cA5 = thresholded_list_of_coeffs[6*i]\n",
    "    cD5 = thresholded_list_of_coeffs[6*i+1]\n",
    "    cD4 = thresholded_list_of_coeffs[6*i+2]\n",
    "    cD3 = thresholded_list_of_coeffs[6*i+3]\n",
    "    cD2 = thresholded_list_of_coeffs[6*i+4]\n",
    "    cD1 = thresholded_list_of_coeffs[6*i+5]\n",
    "    \n",
    "    reconstructed_sigs_level5.append(pywt.idwt(cA5, cD5, 'db4'))\n",
    "    reconstructed_sigs_level4.append(pywt.idwt(reconstructed_sigs_level5[-1][:-1], cD4, 'db4'))  \n",
    "    reconstructed_sigs_level3.append(pywt.idwt(reconstructed_sigs_level4[-1][:], cD3, 'db4'))  \n",
    "    reconstructed_sigs_level2.append(pywt.idwt(reconstructed_sigs_level3[-1][:-1], cD2, 'db4'))  \n",
    "    reconstructed_sigs.append(pywt.idwt(reconstructed_sigs_level2[-1][:], cD1, 'db4'))  \n",
    "    scores.append(get_reconstruction_score(signal, reconstructed_sigs[-1][:-1]))\n",
    "\n",
    "for i, recon in enumerate(reconstructed_sigs):\n",
    "    axes[i].plot(time, recon[:-1], label='reconstructed')\n",
    "    axes[i].tick_params(axis='both', which='major', labelsize=16)\n",
    "    axes[i].legend(loc='upper right')\n",
    "    \n",
    "axes[0].set_title('Reconstruction EEG-1, score: %.1f' %scores[0]+'%', fontsize=16) \n",
    "axes[0].set_ylabel('Amplitude (\\u03bcV)', fontsize=16)\n",
    "axes[1].set_title('Reconstruction EMG-1, score: %.1f' %scores[1]+'%', fontsize=16) \n",
    "axes[1].set_ylabel('Amplitude (\\u03bcV)', fontsize=16)\n",
    "axes[2].set_title('Reconstruction Force-z, score: %.1f' %scores[2]+'%', fontsize=16) \n",
    "axes[2].set_ylabel('Amplitude (mV)', fontsize=16)\n",
    "axes[2].set_xlabel('Time (sec)', fontsize=16)\n",
    "\n",
    "plt.tight_layout()"
   ]
  },
  {
   "cell_type": "markdown",
   "metadata": {},
   "source": [
    "### c) Wavelet Data Compression by Parseval's Theorem"
   ]
  },
  {
   "cell_type": "code",
   "execution_count": null,
   "metadata": {
    "scrolled": true
   },
   "outputs": [],
   "source": [
    "def retain_energy(coeffs, original_signal, retained_ratio=0.50):\n",
    "    energy = norm(original_signal) ** 2 # energy of the original signal\n",
    "    c = np.asarray([j for i in coeffs for j in i])\n",
    "    sorted_c = sorted(c, key=abs)[::-1] # dwt coeffs sorted in a decreasing order of their magnitude\n",
    "    sum, i = 0, 0\n",
    "    # evaluate the energy of the compressed signal until a certain amount of energy \n",
    "    # from the original signal is retained.\n",
    "    while sum <= energy * retained_ratio:\n",
    "        sum += sorted_c[i] ** 2\n",
    "        i += 1\n",
    "    th = abs(sorted_c[i])\n",
    "    l = []\n",
    "    for x in coeffs:\n",
    "        l.append(threshold_coeffs(x, threshold=th, soft=True))\n",
    "    return l\n",
    "\n",
    "retained_list_of_coeffs = []\n",
    "\n",
    "# split the list of coefficients into [cA5, cD5, cD4, cD3, cD2, cD1] for each signal\n",
    "split_list = [list_of_coeffs[i:i+6] for i in range(0, len(list_of_coeffs), 6)]\n",
    "for coeffs, signal in zip(split_list, [eeg_signal_1, emg_signal_1, force_signal_3]):\n",
    "    retained_coeffs = retain_energy(coeffs, signal)\n",
    "    for x in retained_coeffs:\n",
    "        retained_list_of_coeffs.append(x)\n",
    "\n",
    "hist_dwtCoeffs(retained_list_of_coeffs)\n",
    "\n",
    "# Plot the reconstructed signals and show reconstruction scores\n",
    "scores, reconstructed_sigs = [], []\n",
    "fig, axes = plt.subplots(3, figsize=(12,12), sharex=False)\n",
    "\n",
    "for i, signal in enumerate([eeg_signal_1, emg_signal_1, force_signal_3]):\n",
    "    axes[i].plot(time, signal, label='original')\n",
    "    cA5 = list_of_coeffs[6*i]\n",
    "    cD5 = list_of_coeffs[6*i+1]\n",
    "    cD4 = list_of_coeffs[6*i+2]\n",
    "    cD3 = list_of_coeffs[6*i+3]\n",
    "    cD2 = list_of_coeffs[6*i+4]\n",
    "    cD1 = list_of_coeffs[6*i+5]\n",
    "    \n",
    "    l = retain_energy([cA5, cD5, cD4, cD3, cD2, cD1], signal)\n",
    "    \n",
    "    reconstructed_sigs_level5.append(pywt.idwt(l[0], l[1], 'db4'))\n",
    "    reconstructed_sigs_level4.append(pywt.idwt(reconstructed_sigs_level5[-1][:-1], l[2], 'db4'))  \n",
    "    reconstructed_sigs_level3.append(pywt.idwt(reconstructed_sigs_level4[-1][:], l[3], 'db4'))  \n",
    "    reconstructed_sigs_level2.append(pywt.idwt(reconstructed_sigs_level3[-1][:-1], l[4], 'db4'))  \n",
    "    reconstructed_sigs.append(pywt.idwt(reconstructed_sigs_level2[-1][:], l[5], 'db4'))  \n",
    "    \n",
    "    scores.append(get_reconstruction_score(signal, reconstructed_sigs[-1][:-1]))\n",
    "\n",
    "for i, recon in enumerate(reconstructed_sigs):\n",
    "    axes[i].plot(time, recon[:-1], label='reconstructed')\n",
    "    axes[i].tick_params(axis='both', which='major', labelsize=16)\n",
    "    axes[i].legend(loc='upper right')\n",
    "    \n",
    "axes[0].set_title('Reconstruction EEG-1, score: %.1f' %scores[0]+'%', fontsize=16) \n",
    "axes[0].set_ylabel('Amplitude (\\u03bcV)', fontsize=16)\n",
    "axes[1].set_title('Reconstruction EMG-1, score: %.1f' %scores[1]+'%', fontsize=16) \n",
    "axes[1].set_ylabel('Amplitude (\\u03bcV)', fontsize=16)\n",
    "axes[2].set_title('Reconstruction Force-3, score: %.1f' %scores[2]+'%', fontsize=16) \n",
    "axes[2].set_ylabel('Amplitude (mV)', fontsize=16)\n",
    "axes[2].set_xlabel('Time (sec)', fontsize=16)\n",
    "\n",
    "plt.tight_layout()"
   ]
  },
  {
   "cell_type": "markdown",
   "metadata": {},
   "source": [
    "# Vector Auto-Regression Based on DWT Coefficients"
   ]
  },
  {
   "cell_type": "markdown",
   "metadata": {},
   "source": [
    "### Compute and save the wavelet coefficients at all resolutions for each modality "
   ]
  },
  {
   "cell_type": "code",
   "execution_count": 4,
   "metadata": {
    "scrolled": true
   },
   "outputs": [],
   "source": [
    "time_dom_cols = ['EEG-1','EEG-2','EEG-3','EEG-4',\n",
    "                 'EEG-5','EEG-6','EEG-7','EEG-8',\n",
    "                 'EEG-9','EEG-10','EEG-11','EEG-12',\n",
    "                 'EEG-13','EEG-14','EMG-1','EMG-2',\n",
    "                 'EMG-3','EMG-4','Force-x','Force-y',\n",
    "                 'Force-z']\n",
    "\n",
    "wl_columns_level1=['cD1_EEG-1','cD1_EEG-2','cD1_EEG-3','cD1_EEG-4',\n",
    "                   'cD1_EEG-5','cD1_EEG-6','cD1_EEG-7','cD1_EEG-8',\n",
    "                   'cD1_EEG-9','cD1_EEG-10','cD1_EEG-11','cD1_EEG-12',\n",
    "                   'cD1_EEG-13','cD1_EEG-14','cD1_EMG-1','cD1_EMG-2',\n",
    "                   'cD1_EMG-3','cD1_EMG-4','cD1_Force-x','cD1_Force-y',\n",
    "                   'cD1_Force-z']\n",
    "\n",
    "wl_columns_level2=['cD2_EEG-1','cD2_EEG-2','cD2_EEG-3','cD2_EEG-4',\n",
    "                   'cD2_EEG-5','cD2_EEG-6','cD2_EEG-7','cD2_EEG-8',\n",
    "                   'cD2_EEG-9','cD2_EEG-10','cD2_EEG-11','cD2_EEG-12',\n",
    "                   'cD2_EEG-13','cD2_EEG-14','cD2_EMG-1','cD2_EMG-2',\n",
    "                   'cD2_EMG-3','cD2_EMG-4','cD2_Force-x','cD2_Force-y',\n",
    "                   'cD2_Force-z']\n",
    "\n",
    "wl_columns_level3=['cD3_EEG-1','cD3_EEG-2','cD3_EEG-3','cD3_EEG-4',\n",
    "                   'cD3_EEG-5','cD3_EEG-6','cD3_EEG-7','cD3_EEG-8',\n",
    "                   'cD3_EEG-9','cD3_EEG-10','cD3_EEG-11','cD3_EEG-12',\n",
    "                   'cD3_EEG-13','cD3_EEG-14','cD3_EMG-1','cD3_EMG-2',\n",
    "                   'cD3_EMG-3','cD3_EMG-4','cD3_Force-x','cD3_Force-y',\n",
    "                   'cD3_Force-z']\n",
    "\n",
    "wl_columns_level4=['cD4_EEG-1','cD4_EEG-2','cD4_EEG-3','cD4_EEG-4',\n",
    "                   'cD4_EEG-5','cD4_EEG-6','cD4_EEG-7','cD4_EEG-8',\n",
    "                   'cD4_EEG-9','cD4_EEG-10','cD4_EEG-11','cD4_EEG-12',\n",
    "                   'cD4_EEG-13','cD4_EEG-14','cD4_EMG-1','cD4_EMG-2',\n",
    "                   'cD4_EMG-3','cD4_EMG-4','cD4_Force-x','cD4_Force-y',\n",
    "                   'cD4_Force-z']\n",
    "\n",
    "wl_columns_level5=['cD5_EEG-1','cD5_EEG-2','cD5_EEG-3','cD5_EEG-4',\n",
    "                   'cD5_EEG-5','cD5_EEG-6','cD5_EEG-7','cD5_EEG-8',\n",
    "                   'cD5_EEG-9','cD5_EEG-10','cD5_EEG-11','cD5_EEG-12',\n",
    "                   'cD5_EEG-13','cD5_EEG-14','cD5_EMG-1','cD5_EMG-2',\n",
    "                   'cD5_EMG-3','cD5_EMG-4','cD5_Force-x','cD5_Force-y',\n",
    "                   'cD5_Force-z']\n",
    "\n",
    "wl_columns_level6=['cA6_EEG-1','cD6_EEG-1','cA6_EEG-2','cD6_EEG-2',\n",
    "                   'cA6_EEG-3','cD6_EEG-3','cA6_EEG-4','cD6_EEG-4',\n",
    "                   'cA6_EEG-5','cD6_EEG-5','cA6_EEG-6','cD6_EEG-6',\n",
    "                   'cA6_EEG-7','cD6_EEG-7','cA6_EEG-8','cD6_EEG-8',\n",
    "                   'cA6_EEG-9','cD6_EEG-9','cA6_EEG-10','cD6_EEG-10',\n",
    "                   'cA6_EEG-11','cD6_EEG-11','cA6_EEG-12','cD6_EEG-12',\n",
    "                   'cA6_EEG-13','cD6_EEG-13','cA6_EEG-14','cD6_EEG-14',\n",
    "                   'cA6_EMG-1','cD6_EMG-1','cA6_EMG-2','cD6_EMG-2',\n",
    "                   'cA6_EMG-3','cD6_EMG-3','cA6_EMG-4','cD6_EMG-4',\n",
    "                   'cA6_Force-x','cD6_Force-x','cA6_Force-y','cD6_Force-y',\n",
    "                   'cA6_Force-z','cD6_Force-z']\n",
    "\n",
    "wl_cols = wl_columns_level1 + wl_columns_level2 + wl_columns_level3 + \\\n",
    "          wl_columns_level4 + wl_columns_level5 + wl_columns_level6"
   ]
  },
  {
   "cell_type": "markdown",
   "metadata": {},
   "source": [
    "#### Skip next 4 sections to use the pickled wavelet coefficients instead"
   ]
  },
  {
   "cell_type": "code",
   "execution_count": null,
   "metadata": {
    "scrolled": true
   },
   "outputs": [],
   "source": [
    "# take the discrete wavelet coefficients of train and test data for each trial\n",
    "def get_wavelet(data):\n",
    "    wavelet_coef_level1 = pd.DataFrame(columns=wl_columns_level1)\n",
    "    wavelet_coef_level2 = pd.DataFrame(columns=wl_columns_level2)\n",
    "    wavelet_coef_level3 = pd.DataFrame(columns=wl_columns_level3)\n",
    "    wavelet_coef_level4 = pd.DataFrame(columns=wl_columns_level4)\n",
    "    wavelet_coef_level5 = pd.DataFrame(columns=wl_columns_level5)\n",
    "    wavelet_coef_level6 = pd.DataFrame(columns=wl_columns_level6)\n",
    "    \n",
    "    th = 14*[1] + 4*[0.2] + 3*[1] # soft threshold list for all channels\n",
    "    wavelet_list_allLevels = [] \n",
    "   \n",
    "    for i in tqdm_notebook(range(len(data)), ascii=True):  # for each trial\n",
    "        for j in range(num_ch):\n",
    "            cA1, cD1 = pywt.dwt(data[i].iloc[:,j].values, 'db4')\n",
    "            cA2, cD2 = pywt.dwt(pywt.idwt(cA1, np.zeros(len(cA1)), 'db4'), 'db4')\n",
    "            cA3, cD3 = pywt.dwt(pywt.idwt(cA2, np.zeros(len(cA2)), 'db4'), 'db4')\n",
    "            cA4, cD4 = pywt.dwt(pywt.idwt(cA3, np.zeros(len(cA3)), 'db4'), 'db4')\n",
    "            cA5, cD5 = pywt.dwt(pywt.idwt(cA4, np.zeros(len(cA4)), 'db4'), 'db4')\n",
    "            cA6, cD6 = pywt.dwt(pywt.idwt(cA5, np.zeros(len(cA5)), 'db4'), 'db4')         \n",
    "            \n",
    "            # Apply soft-thresholding on DWT coeffs\n",
    "            wavelet_coef_level1[wl_columns_level1[j]] = threshold_coeffs(cD1, threshold=th[j], soft=True)\n",
    "            wavelet_coef_level2[wl_columns_level2[j]] = threshold_coeffs(cD2, threshold=th[j], soft=True)\n",
    "            wavelet_coef_level3[wl_columns_level3[j]] = threshold_coeffs(cD3, threshold=th[j], soft=True)\n",
    "            wavelet_coef_level4[wl_columns_level4[j]] = threshold_coeffs(cD4, threshold=th[j], soft=True)\n",
    "            wavelet_coef_level5[wl_columns_level5[j]] = threshold_coeffs(cD5, threshold=th[j], soft=True)\n",
    "            wavelet_coef_level6[wl_columns_level6[2*j]] = threshold_coeffs(cA6, threshold=th[j], soft=True)\n",
    "            wavelet_coef_level6[wl_columns_level6[2*j+1]] = threshold_coeffs(cD6, threshold=th[j], soft=True)\n",
    "        \n",
    "        # choose only EMG wavelet coeffs from levels 1,2,3\n",
    "        wavelet_coef_allLevels = pd.concat([wavelet_coef_level1[['cD1_EMG-1','cD1_EMG-2','cD1_EMG-3','cD1_EMG-4']],\n",
    "                                            wavelet_coef_level2[['cD2_EMG-1','cD2_EMG-2','cD2_EMG-3','cD2_EMG-4']],\n",
    "                                            wavelet_coef_level3[['cD3_EMG-1','cD3_EMG-2','cD3_EMG-3','cD3_EMG-4']],\n",
    "                                            wavelet_coef_level4[['cD4_EMG-1','cD4_EMG-2','cD4_EMG-3','cD4_EMG-4']],\n",
    "                                            wavelet_coef_level5[['cD5_EMG-1','cD5_EMG-2','cD5_EMG-3','cD5_EMG-4']],\n",
    "                                            wavelet_coef_level6[['cA6_EEG-1','cA6_EEG-2','cA6_EEG-3','cA6_EEG-4',\n",
    "                                                                 'cA6_EEG-5','cA6_EEG-6','cA6_EEG-7','cA6_EEG-8',\n",
    "                                                                 'cA6_EEG-9','cA6_EEG-10','cA6_EEG-11','cA6_EEG-12',\n",
    "                                                                 'cA6_EEG-13','cA6_EEG-14','cA6_EMG-1','cD6_EMG-1',\n",
    "                                                                 'cA6_EMG-2','cD6_EMG-2','cA6_EMG-3','cD6_EMG-3',\n",
    "                                                                 'cA6_EMG-4','cD6_EMG-4','cA6_Force-x',\n",
    "                                                                 'cA6_Force-y','cA6_Force-z']]], axis=1, \n",
    "                                            ignore_index=True)\n",
    "        \n",
    "        wavelet_coef_allLevels.columns = ['cD1_EMG-1','cD1_EMG-2','cD1_EMG-3','cD1_EMG-4',\n",
    "                                          'cD2_EMG-1','cD2_EMG-2','cD2_EMG-3','cD2_EMG-4',\n",
    "                                          'cD3_EMG-1','cD3_EMG-2','cD3_EMG-3','cD3_EMG-4',\n",
    "                                          'cD4_EMG-1','cD4_EMG-2','cD4_EMG-3','cD4_EMG-4',\n",
    "                                          'cD5_EMG-1','cD5_EMG-2','cD5_EMG-3','cD5_EMG-4'] +\\\n",
    "                                          wl_columns_level6[0:28:2] + wl_columns_level6[28:36] + \\\n",
    "                                          wl_columns_level6[36:42:2]  \n",
    "        wavelet_list_allLevels.append(wavelet_coef_allLevels)\n",
    "        \n",
    "        # delete the df wavelet_coef for the next trial\n",
    "        wavelet_coef_allLevels = wavelet_coef_allLevels.drop(wavelet_coef_allLevels.index[:])\n",
    "        wavelet_coef_level1 = wavelet_coef_level1.drop(wavelet_coef_level1.index[:])\n",
    "        wavelet_coef_level2 = wavelet_coef_level2.drop(wavelet_coef_level2.index[:])\n",
    "        wavelet_coef_level3 = wavelet_coef_level3.drop(wavelet_coef_level3.index[:])\n",
    "        wavelet_coef_level4 = wavelet_coef_level4.drop(wavelet_coef_level4.index[:])\n",
    "        wavelet_coef_level5 = wavelet_coef_level5.drop(wavelet_coef_level5.index[:])\n",
    "        wavelet_coef_level6 = wavelet_coef_level6.drop(wavelet_coef_level6.index[:])\n",
    "\n",
    "    return wavelet_list_allLevels\n",
    "\n",
    "train_wavelet = get_wavelet(train_data)\n",
    "print('Wavelet transform ready for train data')"
   ]
  },
  {
   "cell_type": "code",
   "execution_count": null,
   "metadata": {
    "scrolled": true
   },
   "outputs": [],
   "source": [
    "test_wavelet = []\n",
    "\n",
    "for i, participant in enumerate(test_data):\n",
    "    test_wavelet.append(get_wavelet(participant))\n",
    "    #print('Wavelet transform ready for participant %s' %str(i+1))"
   ]
  },
  {
   "cell_type": "markdown",
   "metadata": {},
   "source": [
    "#### Save Train Wavelet Coefficients"
   ]
  },
  {
   "cell_type": "code",
   "execution_count": null,
   "metadata": {
    "scrolled": true
   },
   "outputs": [],
   "source": [
    "PIK ='VARResults/train_wavelet.dat'\n",
    "\n",
    "with open(PIK, \"wb\") as f:\n",
    "    pickle.dump(train_wavelet, f)"
   ]
  },
  {
   "cell_type": "markdown",
   "metadata": {},
   "source": [
    "#### Save Test Wavelet Coefficients"
   ]
  },
  {
   "cell_type": "code",
   "execution_count": null,
   "metadata": {
    "scrolled": true
   },
   "outputs": [],
   "source": [
    "PIK ='VARResults/test_wavelet.dat'\n",
    "\n",
    "with open(PIK, \"wb\") as f:\n",
    "    pickle.dump(test_wavelet, f)"
   ]
  },
  {
   "cell_type": "markdown",
   "metadata": {},
   "source": [
    "#### Load Wavelet Coefficients (So you can skip prior 4 sections for wavelet transformations)"
   ]
  },
  {
   "cell_type": "code",
   "execution_count": 5,
   "metadata": {
    "scrolled": true
   },
   "outputs": [],
   "source": [
    "PIK1 ='VARResults/train_wavelet.dat'\n",
    "PIK2 ='VARResults/test_wavelet.dat'\n",
    "\n",
    "with open(PIK1, \"rb\") as f:\n",
    "    train_wavelet = pickle.load(f)\n",
    "    \n",
    "with open(PIK2, \"rb\") as f:\n",
    "    test_wavelet = pickle.load(f)"
   ]
  },
  {
   "cell_type": "markdown",
   "metadata": {},
   "source": [
    "#### Practice"
   ]
  },
  {
   "cell_type": "code",
   "execution_count": null,
   "metadata": {
    "scrolled": true
   },
   "outputs": [],
   "source": [
    "trial = 2\n",
    "train_wavelet[trial].head(5)"
   ]
  },
  {
   "cell_type": "code",
   "execution_count": null,
   "metadata": {
    "scrolled": true
   },
   "outputs": [],
   "source": [
    "participant = 2\n",
    "trial = 15\n",
    "test_wavelet[participant][trial].head(3)"
   ]
  },
  {
   "cell_type": "markdown",
   "metadata": {},
   "source": [
    "#### Define Column Indices"
   ]
  },
  {
   "cell_type": "code",
   "execution_count": 6,
   "metadata": {},
   "outputs": [],
   "source": [
    "train_wavelet = pd.concat(train_wavelet)"
   ]
  },
  {
   "cell_type": "markdown",
   "metadata": {},
   "source": [
    "### Model Lag Order Selection (Skip to the next section to use pickled data)"
   ]
  },
  {
   "cell_type": "code",
   "execution_count": null,
   "metadata": {
    "scrolled": true
   },
   "outputs": [],
   "source": [
    "# saves bic scores for all model orders:\n",
    "def save_bic(dataframe, filename, use_saved=True):\n",
    "    if use_saved==True: return\n",
    "    lag_bic_scores = np.zeros((1,20))\n",
    "    for P in tqdm_notebook(range(20), ascii=True):\n",
    "        model = VAR(dataframe)\n",
    "        results = model.fit(P+1)\n",
    "        bic_score = results.bic\n",
    "        lag_bic_scores[0, P] = bic_score\n",
    "        np.save(filename, lag_bic_scores)\n",
    "\n",
    "'''\n",
    "# Only EEG (first 28 columns)   \n",
    "filename = 'VARResults/onlyEEG_lagOrder.npy'\n",
    "save_bic(train_wavelet_df.iloc[:,eeg_ind_wl], filename)\n",
    "print(\"Lag order selection completed for EEG only.\")\n",
    "\n",
    "# Only EMG (28-35 columns)\n",
    "filename = 'VARResults/onlyEMG_lagOrder.npy'\n",
    "save_bic(train_wavelet_df.iloc[:,emg_ind_wl], filename)\n",
    "print(\"Lag order selection completed for EMG only.\")\n",
    " \n",
    "# Only Force (35-41 columns)\n",
    "filename = 'VARResults/onlyForce_lagOrder.npy'\n",
    "save_bic(train_wavelet_df.iloc[:,force_ind_wl], filename)\n",
    "print(\"Lag order selection completed for Force only.\")\n",
    "\n",
    "# EEG & EMG\n",
    "filename = 'VARResults/EEG_EMG_lagOrder.npy'\n",
    "save_bic(train_wavelet_df.iloc[:,eeg_ind_wl+emg_ind_wl], filename)\n",
    "print(\"Lag order selection completed for EEG and EMG.\")\n",
    "\n",
    "# EEG & Force\n",
    "filename = 'VARResults/EEG_Force_lagOrder.npy'\n",
    "save_bic(train_wavelet_df.iloc[:,eeg_ind_wl+force_ind_wl], filename)\n",
    "print(\"Lag order selection completed for EEG and Force.\")\n",
    "\n",
    "# EMG & Force\n",
    "filename = 'VARResults/EMG_Force_lagOrder.npy'\n",
    "save_bic(train_wavelet_df.iloc[:,emg_ind_wl+force_ind_wl], filename)\n",
    "print(\"Lag order selection completed for EMG and Force.\")\n",
    "\n",
    "# all\n",
    "filename = 'VARResults/all_lagOrder.npy'\n",
    "save_bic(train_wavelet_df.iloc[:,eeg_ind_wl+emg_ind_wl+force_ind_wl], filename)\n",
    "print(\"Lag order selection completed for all.\")\n",
    "'''"
   ]
  },
  {
   "cell_type": "markdown",
   "metadata": {},
   "source": [
    "### Model Lag Order Results (using pickled data)"
   ]
  },
  {
   "cell_type": "code",
   "execution_count": null,
   "metadata": {
    "scrolled": true
   },
   "outputs": [],
   "source": [
    "all = np.load('VARResults/all_lagOrder.npy')\n",
    "only_eeg = np.load('VARResults/onlyEEG_lagOrder.npy')\n",
    "only_emg = np.load('VARResults/onlyEMG_lagOrder.npy')\n",
    "only_force = np.load('VARResults/onlyForce_lagOrder.npy')\n",
    "eeg_emg = np.load('VARResults/EEG_EMG_lagOrder.npy')\n",
    "eeg_force = np.load('VARResults/EEG_Force_lagOrder.npy')\n",
    "emg_force = np.load('VARResults/EMG_Force_lagOrder.npy')\n",
    "\n",
    "BIC = pd.DataFrame({'all': all[0,:],\n",
    "                    'only_eeg': only_eeg[0,:],\n",
    "                    'only_emg': only_emg[0,:],\n",
    "                    'only_force': only_force[0,:],\n",
    "                    'eeg_emg': eeg_emg[0,:],\n",
    "                    'eeg_force': eeg_force[0,:],\n",
    "                    'emg_force': emg_force[0,:]})\n",
    "model_orders = 1 + np.arange(20)\n",
    "\n",
    "sns.set(style=\"white\", palette=\"muted\", color_codes=True, font_scale=1.6)\n",
    "\n",
    "# Set up the matplotlib figure\n",
    "f, axes = plt.subplots(3, 2, figsize=(10,12), sharex=False)\n",
    "sns.despine(left=True)\n",
    "\n",
    "sns.pointplot(x=model_orders, y=BIC['all'], color='r', ax=axes[0,0], scale=0.4).set_title('EEG, EMG and Force')\n",
    "sns.pointplot(x=model_orders, y=BIC['eeg_force'], color='b', ax=axes[0,1], scale=0.4).set_title('EEG and Force')\n",
    "sns.pointplot(x=model_orders, y=BIC['eeg_emg'], color='m', ax=axes[1,0], scale=0.4).set_title('EEG and EMG')\n",
    "sns.pointplot(x=model_orders, y=BIC['emg_force'], color='g', ax=axes[1,1], scale=0.4).set_title('EMG and Force')\n",
    "sns.pointplot(x=model_orders, y=BIC['only_eeg'], color='g', ax=axes[2,0], scale=0.4).set_title('Only EEG')\n",
    "sns.pointplot(x=model_orders, y=BIC['only_force'], color='r', ax=axes[2,1], scale=0.4).set_title('Only Force')\n",
    "\n",
    "for ax in axes.flatten():\n",
    "    ax.set_ylabel('')\n",
    "    ax.set_xlabel('')\n",
    "\n",
    "# The rest is for some cosmetics of the plots...\n",
    "# reduce the density of x-axis\n",
    "for ax in axes.flatten():\n",
    "    for ind, label in enumerate(ax.get_xticklabels()):\n",
    "        if (ind+1) % 5 == 0: #every 5th label is kept\n",
    "            label.set_visible(True)\n",
    "        else:\n",
    "            label.set_visible(False)\n",
    "\n",
    "# draw vertical lines:\n",
    "for i in range(4,24,5):\n",
    "    axes.flatten()[0].vlines(x=i, ymin=BIC['all'].min()-1, ymax=BIC['all'].max(), color='black', \n",
    "                             alpha=1, linewidth=1, linestyles='dotted')\n",
    "    axes.flatten()[1].vlines(x=i, ymin=BIC['eeg_force'].min()-1, ymax=BIC['eeg_force'].max(), color='black', \n",
    "                             alpha=1, linewidth=1, linestyles='dotted')\n",
    "    axes.flatten()[2].vlines(x=i, ymin=BIC['eeg_emg'].min()-0.6, ymax=BIC['eeg_emg'].max(), color='black', \n",
    "                             alpha=1, linewidth=1, linestyles='dotted')\n",
    "    axes.flatten()[3].vlines(x=i, ymin=BIC['emg_force'].min()-0.1, ymax=BIC['emg_force'].max(), color='black', \n",
    "                             alpha=1, linewidth=1, linestyles='dotted')\n",
    "    axes.flatten()[4].vlines(x=i, ymin=BIC['only_eeg'].min()-1.2, ymax=BIC['only_eeg'].max(), color='black', \n",
    "                             alpha=1, linewidth=1, linestyles='dotted')\n",
    "    axes.flatten()[5].vlines(x=i, ymin=BIC['only_force'].min()-0.1, ymax=BIC['only_force'].max(), \n",
    "                             color='black', alpha=1, linewidth=1, linestyles='dotted')\n",
    "\n",
    "# draw horizontal lines:\n",
    "for i in range(int(BIC['all'].min()), int(BIC['all'].max()+1), 2):\n",
    "    axes.flatten()[0].hlines(y=i, xmin=0, xmax=19, color='black', alpha=1, linewidth=1, linestyles='dotted')\n",
    "for i in range(int(BIC['eeg_force'].min()), int(BIC['eeg_force'].max()+1)):\n",
    "    axes.flatten()[1].hlines(y=i, xmin=0, xmax=19, color='black', alpha=1, linewidth=1, linestyles='dotted')\n",
    "for i in range(int(BIC['eeg_emg'].min()), int(BIC['eeg_emg'].max()+1)):\n",
    "    axes.flatten()[2].hlines(y=i, xmin=0, xmax=19, color='black', alpha=1, linewidth=1, linestyles='dotted')\n",
    "for i in np.arange(BIC['emg_force'].min(), BIC['emg_force'].max(), 0.5):\n",
    "    axes.flatten()[3].hlines(y=i, xmin=0, xmax=19, color='black', alpha=1, linewidth=1, linestyles='dotted')\n",
    "for i in range(int(BIC['only_eeg'].min()), int(BIC['only_eeg'].max()+1)):\n",
    "    axes.flatten()[4].hlines(y=i, xmin=0, xmax=19, color='black', alpha=1, linewidth=1, linestyles='dotted')\n",
    "for i in np.arange(BIC['only_force'].min(), BIC['only_force'].max(), 0.5):\n",
    "    axes.flatten()[5].hlines(y=i, xmin=0, xmax=19, color='black', alpha=1, linewidth=1, linestyles='dotted')\n",
    "\n",
    "# display and save\n",
    "f.text(0.5, 0.0, 'Model Order (P)', ha='center')\n",
    "f.text(0.01, 0.5, 'BIC Score', va='center', rotation='vertical')\n",
    "plt.tight_layout()\n",
    "plt.savefig(\"VARResults/lagOrders.pdf\", bbox_inches=\"tight\")"
   ]
  },
  {
   "cell_type": "markdown",
   "metadata": {},
   "source": [
    "### Model Training and Multi-Step Ahead Prediction"
   ]
  },
  {
   "cell_type": "code",
   "execution_count": 7,
   "metadata": {
    "scrolled": false
   },
   "outputs": [
    {
     "name": "stdout",
     "output_type": "stream",
     "text": [
      "nPreds: 150\n",
      "nAhead: 1\n",
      "Lag Order: 8\n"
     ]
    }
   ],
   "source": [
    "def show_entry_fields():\n",
    "    global nPreds, nAhead\n",
    "    nPreds, nAhead = int(e1.get()), int(e2.get())\n",
    "    print(\"nPreds: %s\\nnAhead: %s\" % (nPreds, nAhead))\n",
    "    root.destroy()\n",
    "\n",
    "root = tk.Tk()\n",
    "\n",
    "window_height = 80\n",
    "window_width = 350\n",
    "\n",
    "screen_width = root.winfo_screenwidth()\n",
    "screen_height = root.winfo_screenheight()\n",
    "\n",
    "x_cordinate = int((screen_width/2) - (window_width/2))\n",
    "y_cordinate = int((screen_height/2) - (window_height/2))\n",
    "\n",
    "root.geometry(\"{}x{}+{}+{}\".format(window_width, window_height, x_cordinate, y_cordinate))\n",
    "root.title('Prediction Parameters')\n",
    "\n",
    "# total number of samples to be predicted one-by-one\n",
    "tk.Label(root, text=\"num_predictions (max. 150)\").grid(row=0)\n",
    "# number of samples to be predicted at results.forecast case\n",
    "tk.Label(root, text=\"num_ahead\").grid(row=1)\n",
    "\n",
    "e1 = tk.Entry(root)\n",
    "e2 = tk.Entry(root)\n",
    "\n",
    "e1.grid(row=0, column=1)\n",
    "e2.grid(row=1, column=1)\n",
    "\n",
    "tk.Button(root, text='Submit', command=show_entry_fields).grid(row=3, \n",
    "                                                               column=1, \n",
    "                                                               sticky=tk.W, \n",
    "                                                               pady=4)\n",
    "tk.mainloop()\n",
    "\n",
    "P = 8 # optimal lag order based on BIC plots\n",
    "print(\"Lag Order: 8\")"
   ]
  },
  {
   "cell_type": "markdown",
   "metadata": {},
   "source": [
    "# Train VAR Models for Each Modality (Skip to next section to use pretrained models)"
   ]
  },
  {
   "cell_type": "code",
   "execution_count": null,
   "metadata": {
    "scrolled": true
   },
   "outputs": [],
   "source": [
    "# Use these figures by default:\n",
    "# nPreds: number of samples to be predicted one-by-one\n",
    "# nAhead = 1 number of samples to be predicted at results.forecast case\n",
    "\n",
    "def fit_model(train_wavelet,\n",
    "              test_wavelet, \n",
    "              cols,\n",
    "              mod_cols,\n",
    "              wl_cols=wl_cols,\n",
    "              lag_order=P, \n",
    "              nPreds=nPreds, \n",
    "              nAhead=nAhead):\n",
    "    '''\n",
    "    wavelet coefficients at level 1-6 for training\n",
    "    cols to be trained for each modality\n",
    "    mod_cols for choosing the wavelet coefficients from eeg, emg and force (modality selection)\n",
    "    wl_cols: columns names from all levels\n",
    "    lag order -> how many samples to look back at the past for VAR model training (P=8 -> 7ms)\n",
    "    nPreds is the total number of predictions to be carried out (200 samples)\n",
    "    nAhead is number of predictions at a time (1 sample at a time)\n",
    "    '''\n",
    "    assert nAhead <= nPreds, (\"number of samples to be predicted at each prediction must be\"\n",
    "                              \"less than total number of samples to be predicted\")\n",
    "    _model = VAR(train_wavelet.iloc[:,cols]).fit(lag_order)\n",
    "            \n",
    "    forecasted_trials = []\n",
    "    \n",
    "    for i, participant in enumerate(tqdm_notebook(test_wavelet, ascii=True)):\n",
    "        participant_forecast = []\n",
    "        for trial in participant:   # for each trial in a wavelet resolution level\n",
    "            trial_forecast = []\n",
    "            # sliding window over last P observed samples to predict next nAhead samples\n",
    "            for j in range(math.floor(nPreds/nAhead)):\n",
    "                trial_forecast.extend(_model.forecast(trial.iloc[j*nAhead:j*nAhead+lag_order,\n",
    "                                                                 cols].values, nAhead))\n",
    "            # convert the list to a pd.DataFrame\n",
    "            trial_forecast = pd.DataFrame(trial_forecast, columns=[wl_cols[k] for k in mod_cols])                \n",
    "            participant_forecast.append(trial_forecast)\n",
    "        \n",
    "        forecasted_trials.append(participant_forecast)\n",
    "    \n",
    "    return forecasted_trials"
   ]
  },
  {
   "cell_type": "markdown",
   "metadata": {},
   "source": [
    "### Predict and save wavelet coefficients (Skip to the next  section to use pickled wavelet coefficients)"
   ]
  },
  {
   "cell_type": "code",
   "execution_count": 8,
   "metadata": {},
   "outputs": [],
   "source": [
    "# use only approximation coeefficients for eeg avoid columns with 0's,\n",
    "# in order to yield a positive-semidefinite matrix\n",
    "emg_ind_wl_level1_5 = list(range(14, 18, 1)) + list(range(35, 39, 1)) + list(range(56, 60, 1)) +\\\n",
    "                      list(range(77, 81, 1)) + list(range(98, 102, 1))\n",
    "\n",
    "eeg_ind_wl_level6 = list(range(105, 133, 2)) \n",
    "emg_ind_wl_level6 = list(range(133, 141, 1))\n",
    "force_ind_wl_level6 = list(range(141, 147, 2))"
   ]
  },
  {
   "cell_type": "code",
   "execution_count": 9,
   "metadata": {},
   "outputs": [],
   "source": [
    "eeg_cols_train_wl = list(range(20, 34, 1)) \n",
    "emg_cols_train_wl = list(range(0, 20, 1)) + list(range(34, 42, 1))\n",
    "force_cols_train_wl = list(range(42, 45, 1)) "
   ]
  },
  {
   "cell_type": "markdown",
   "metadata": {},
   "source": [
    "Only EEG "
   ]
  },
  {
   "cell_type": "code",
   "execution_count": null,
   "metadata": {},
   "outputs": [],
   "source": [
    "mod_cols_eeg = eeg_ind_wl_level6\n",
    "forecasted_eeg = fit_model(train_wavelet, test_wavelet, eeg_cols_train_wl, mod_cols_eeg)\n",
    "with open('VARResults/forecasted_eeg.dat', \"wb\") as f:\n",
    "    pickle.dump(forecasted_eeg, f)\n",
    "del forecasted_eeg # to save mem"
   ]
  },
  {
   "cell_type": "markdown",
   "metadata": {},
   "source": [
    "Only EMG "
   ]
  },
  {
   "cell_type": "code",
   "execution_count": null,
   "metadata": {},
   "outputs": [],
   "source": [
    "mod_cols_emg = emg_ind_wl_level1_5 + emg_ind_wl_level6\n",
    "forecasted_emg = fit_model(train_wavelet, test_wavelet, emg_cols_train_wl, mod_cols_emg)\n",
    "with open('VARResults/forecasted_emg.dat', \"wb\") as f:\n",
    "    pickle.dump(forecasted_emg, f)\n",
    "del forecasted_emg # to save mem"
   ]
  },
  {
   "cell_type": "markdown",
   "metadata": {},
   "source": [
    "Only Force"
   ]
  },
  {
   "cell_type": "code",
   "execution_count": null,
   "metadata": {},
   "outputs": [],
   "source": [
    "mod_cols_force = force_ind_wl_level6\n",
    "forecasted_force = fit_model(train_wavelet, test_wavelet, force_cols_train_wl, mod_cols_force)\n",
    "with open('VARResults/forecasted_force.dat', \"wb\") as f:\n",
    "    pickle.dump(forecasted_force, f)\n",
    "del forecasted_force # to save mem"
   ]
  },
  {
   "cell_type": "markdown",
   "metadata": {},
   "source": [
    "EEG & EMG"
   ]
  },
  {
   "cell_type": "code",
   "execution_count": null,
   "metadata": {},
   "outputs": [],
   "source": [
    "mod_cols_eemg = eeg_ind_wl_level6 + emg_ind_wl_level1_5 + emg_ind_wl_level6\n",
    "forecasted_eegemg = fit_model(train_wavelet, test_wavelet, \n",
    "                              eeg_cols_train_wl+emg_cols_train_wl, mod_cols_eemg)\n",
    "with open('VARResults/forecasted_eegemg.dat', \"wb\") as f:\n",
    "    pickle.dump(forecasted_eegemg, f)\n",
    "del forecasted_eegemg # to save mem"
   ]
  },
  {
   "cell_type": "markdown",
   "metadata": {},
   "source": [
    "EEG & Force"
   ]
  },
  {
   "cell_type": "code",
   "execution_count": null,
   "metadata": {},
   "outputs": [],
   "source": [
    "mod_cols_eegf = eeg_ind_wl_level6 + force_ind_wl_level6\n",
    "forecasted_eegforce = fit_model(train_wavelet, test_wavelet, \n",
    "                                eeg_cols_train_wl+force_cols_train_wl, mod_cols_eegf)\n",
    "with open('VARResults/forecasted_eegforce.dat', \"wb\") as f:\n",
    "    pickle.dump(forecasted_eegforce, f)\n",
    "del forecasted_eegforce # to save mem"
   ]
  },
  {
   "cell_type": "markdown",
   "metadata": {},
   "source": [
    "EMG & Force"
   ]
  },
  {
   "cell_type": "code",
   "execution_count": null,
   "metadata": {},
   "outputs": [],
   "source": [
    "mod_cols_emgf = emg_ind_wl_level1_5 + emg_ind_wl_level6 + \\\n",
    "                force_ind_wl_level6 \n",
    "forecasted_emgforce = fit_model(train_wavelet, test_wavelet, \n",
    "                                emg_cols_train_wl+force_cols_train_wl, mod_cols_emgf)\n",
    "with open('VARResults/forecasted_emgforce.dat', \"wb\") as f:\n",
    "    pickle.dump(forecasted_emgforce, f)\n",
    "del forecasted_emgforce # to save mem"
   ]
  },
  {
   "cell_type": "markdown",
   "metadata": {},
   "source": [
    "EEG, EMG & Force"
   ]
  },
  {
   "cell_type": "code",
   "execution_count": null,
   "metadata": {
    "scrolled": true
   },
   "outputs": [],
   "source": [
    "# all\n",
    "mod_cols_all = eeg_ind_wl_level6 + emg_ind_wl_level1_5 + emg_ind_wl_level6 + \\\n",
    "               force_ind_wl_level6\n",
    "forecasted_all = fit_model(train_wavelet, test_wavelet, \n",
    "                           eeg_cols_train_wl+emg_cols_train_wl+force_cols_train_wl, \n",
    "                           mod_cols_all)\n",
    "with open('VARResults/forecasted_all.dat', \"wb\") as f:\n",
    "    pickle.dump(forecasted_all, f)\n",
    "del forecasted_all # to save mem"
   ]
  },
  {
   "cell_type": "markdown",
   "metadata": {},
   "source": [
    "### Use Pre-Trained VAR models and pickled predictions in wavelet domain"
   ]
  },
  {
   "cell_type": "code",
   "execution_count": 10,
   "metadata": {
    "scrolled": true
   },
   "outputs": [
    {
     "data": {
      "text/html": [
       "<div>\n",
       "<style scoped>\n",
       "    .dataframe tbody tr th:only-of-type {\n",
       "        vertical-align: middle;\n",
       "    }\n",
       "\n",
       "    .dataframe tbody tr th {\n",
       "        vertical-align: top;\n",
       "    }\n",
       "\n",
       "    .dataframe thead th {\n",
       "        text-align: right;\n",
       "    }\n",
       "</style>\n",
       "<table border=\"1\" class=\"dataframe\">\n",
       "  <thead>\n",
       "    <tr style=\"text-align: right;\">\n",
       "      <th></th>\n",
       "      <th>cA6_EEG-1</th>\n",
       "      <th>cA6_EEG-2</th>\n",
       "      <th>cA6_EEG-3</th>\n",
       "      <th>cA6_EEG-4</th>\n",
       "      <th>cA6_EEG-5</th>\n",
       "      <th>cA6_EEG-6</th>\n",
       "      <th>cA6_EEG-7</th>\n",
       "      <th>cA6_EEG-8</th>\n",
       "      <th>cA6_EEG-9</th>\n",
       "      <th>cA6_EEG-10</th>\n",
       "      <th>cA6_EEG-11</th>\n",
       "      <th>cA6_EEG-12</th>\n",
       "      <th>cA6_EEG-13</th>\n",
       "      <th>cA6_EEG-14</th>\n",
       "    </tr>\n",
       "  </thead>\n",
       "  <tbody>\n",
       "    <tr>\n",
       "      <th>0</th>\n",
       "      <td>-62.426392</td>\n",
       "      <td>-44.187983</td>\n",
       "      <td>-29.241708</td>\n",
       "      <td>-18.607212</td>\n",
       "      <td>-29.172167</td>\n",
       "      <td>-27.349394</td>\n",
       "      <td>-24.269039</td>\n",
       "      <td>-19.313150</td>\n",
       "      <td>-4.809364</td>\n",
       "      <td>-11.065601</td>\n",
       "      <td>-14.975884</td>\n",
       "      <td>-25.598613</td>\n",
       "      <td>-13.177343</td>\n",
       "      <td>-23.478880</td>\n",
       "    </tr>\n",
       "    <tr>\n",
       "      <th>1</th>\n",
       "      <td>-63.064093</td>\n",
       "      <td>-46.970507</td>\n",
       "      <td>-29.741778</td>\n",
       "      <td>-17.105386</td>\n",
       "      <td>-30.392772</td>\n",
       "      <td>-28.873626</td>\n",
       "      <td>-25.477631</td>\n",
       "      <td>-22.138829</td>\n",
       "      <td>-7.449721</td>\n",
       "      <td>-14.799328</td>\n",
       "      <td>-16.888333</td>\n",
       "      <td>-26.859293</td>\n",
       "      <td>-16.900021</td>\n",
       "      <td>-23.820673</td>\n",
       "    </tr>\n",
       "    <tr>\n",
       "      <th>2</th>\n",
       "      <td>-60.741716</td>\n",
       "      <td>-46.516129</td>\n",
       "      <td>-26.608886</td>\n",
       "      <td>-14.412180</td>\n",
       "      <td>-28.308299</td>\n",
       "      <td>-26.283558</td>\n",
       "      <td>-23.380446</td>\n",
       "      <td>-20.549603</td>\n",
       "      <td>-5.747246</td>\n",
       "      <td>-13.671552</td>\n",
       "      <td>-14.742232</td>\n",
       "      <td>-24.180091</td>\n",
       "      <td>-16.577286</td>\n",
       "      <td>-20.132494</td>\n",
       "    </tr>\n",
       "    <tr>\n",
       "      <th>3</th>\n",
       "      <td>-56.714244</td>\n",
       "      <td>-43.403830</td>\n",
       "      <td>-21.040148</td>\n",
       "      <td>-10.808830</td>\n",
       "      <td>-23.728253</td>\n",
       "      <td>-20.480268</td>\n",
       "      <td>-18.482076</td>\n",
       "      <td>-15.262800</td>\n",
       "      <td>-0.671946</td>\n",
       "      <td>-8.327822</td>\n",
       "      <td>-9.327109</td>\n",
       "      <td>-18.287319</td>\n",
       "      <td>-12.538635</td>\n",
       "      <td>-13.404128</td>\n",
       "    </tr>\n",
       "    <tr>\n",
       "      <th>4</th>\n",
       "      <td>-52.854687</td>\n",
       "      <td>-39.224580</td>\n",
       "      <td>-14.833973</td>\n",
       "      <td>-7.089175</td>\n",
       "      <td>-18.116607</td>\n",
       "      <td>-13.108028</td>\n",
       "      <td>-12.273601</td>\n",
       "      <td>-8.072676</td>\n",
       "      <td>3.393419</td>\n",
       "      <td>-0.769454</td>\n",
       "      <td>-2.297347</td>\n",
       "      <td>-10.874174</td>\n",
       "      <td>-5.989357</td>\n",
       "      <td>-5.706487</td>\n",
       "    </tr>\n",
       "  </tbody>\n",
       "</table>\n",
       "</div>"
      ],
      "text/plain": [
       "   cA6_EEG-1  cA6_EEG-2  cA6_EEG-3  cA6_EEG-4  cA6_EEG-5  cA6_EEG-6  \\\n",
       "0 -62.426392 -44.187983 -29.241708 -18.607212 -29.172167 -27.349394   \n",
       "1 -63.064093 -46.970507 -29.741778 -17.105386 -30.392772 -28.873626   \n",
       "2 -60.741716 -46.516129 -26.608886 -14.412180 -28.308299 -26.283558   \n",
       "3 -56.714244 -43.403830 -21.040148 -10.808830 -23.728253 -20.480268   \n",
       "4 -52.854687 -39.224580 -14.833973  -7.089175 -18.116607 -13.108028   \n",
       "\n",
       "   cA6_EEG-7  cA6_EEG-8  cA6_EEG-9  cA6_EEG-10  cA6_EEG-11  cA6_EEG-12  \\\n",
       "0 -24.269039 -19.313150  -4.809364  -11.065601  -14.975884  -25.598613   \n",
       "1 -25.477631 -22.138829  -7.449721  -14.799328  -16.888333  -26.859293   \n",
       "2 -23.380446 -20.549603  -5.747246  -13.671552  -14.742232  -24.180091   \n",
       "3 -18.482076 -15.262800  -0.671946   -8.327822   -9.327109  -18.287319   \n",
       "4 -12.273601  -8.072676   3.393419   -0.769454   -2.297347  -10.874174   \n",
       "\n",
       "   cA6_EEG-13  cA6_EEG-14  \n",
       "0  -13.177343  -23.478880  \n",
       "1  -16.900021  -23.820673  \n",
       "2  -16.577286  -20.132494  \n",
       "3  -12.538635  -13.404128  \n",
       "4   -5.989357   -5.706487  "
      ]
     },
     "execution_count": 10,
     "metadata": {},
     "output_type": "execute_result"
    }
   ],
   "source": [
    "with open('VARResults/forecasted_all.dat', \"rb\") as f:\n",
    "    forecasted_all = pickle.load(f)\n",
    "    \n",
    "with open('VARResults/forecasted_eeg.dat', \"rb\") as f:\n",
    "    forecasted_eeg = pickle.load(f)\n",
    "    \n",
    "with open('VARResults/forecasted_emg.dat', \"rb\") as f:\n",
    "    forecasted_emg = pickle.load(f)\n",
    "    \n",
    "with open('VARResults/forecasted_force.dat', \"rb\") as f:\n",
    "    forecasted_force = pickle.load(f)\n",
    "    \n",
    "with open('VARResults/forecasted_eegforce.dat', \"rb\") as f:\n",
    "    forecasted_eegforce = pickle.load(f)\n",
    "    \n",
    "with open('VARResults/forecasted_eegemg.dat', \"rb\") as f:\n",
    "    forecasted_eegemg = pickle.load(f)\n",
    "    \n",
    "with open('VARResults/forecasted_emgforce.dat', \"rb\") as f:\n",
    "    forecasted_emgforce = pickle.load(f)\n",
    "\n",
    "participant = 0\n",
    "trial_id = 0\n",
    "forecasted_eeg[participant][trial_id].head(5)"
   ]
  },
  {
   "cell_type": "markdown",
   "metadata": {},
   "source": [
    "#### Practice"
   ]
  },
  {
   "cell_type": "code",
   "execution_count": null,
   "metadata": {
    "scrolled": false
   },
   "outputs": [],
   "source": [
    "participant = 0\n",
    "trial_id = 0\n",
    "forecasted_all[participant][trial_id].head(5)"
   ]
  },
  {
   "cell_type": "code",
   "execution_count": null,
   "metadata": {},
   "outputs": [],
   "source": [
    "test_wavelet[participant][trial_id].head(5)"
   ]
  },
  {
   "cell_type": "code",
   "execution_count": 11,
   "metadata": {
    "scrolled": true
   },
   "outputs": [],
   "source": [
    "# list of dataframes, each as the complete forecasted dwt coefficients for a given modality\n",
    "f_list = [forecasted_eeg, forecasted_emg, forecasted_force, forecasted_eegemg, \n",
    "          forecasted_eegforce, forecasted_emgforce, forecasted_all]"
   ]
  },
  {
   "cell_type": "code",
   "execution_count": 12,
   "metadata": {
    "scrolled": true
   },
   "outputs": [
    {
     "name": "stdout",
     "output_type": "stream",
     "text": [
      "EEG, EMG & Force Selected\n"
     ]
    }
   ],
   "source": [
    "# Select an input modality to plot the predictions:\n",
    "results_for_eeg = 0\n",
    "results_for_eegemg = 3\n",
    "results_for_eegforce = 4\n",
    "results_for_all = -1\n",
    "\n",
    "def getit():\n",
    "    global value\n",
    "    value = v.get()\n",
    "    \n",
    "def printit():\n",
    "    try:\n",
    "        global value\n",
    "        if value==0:\n",
    "            print(\"Only EEG Selected\")\n",
    "            root.destroy()\n",
    "        elif value==3:\n",
    "            print(\"EEG & EMG Selected\")\n",
    "            root.destroy()\n",
    "        elif value==4:\n",
    "            print(\"EEG & Force Selected\")\n",
    "            root.destroy()\n",
    "        elif value==-1:\n",
    "            print(\"EEG, EMG & Force Selected\")\n",
    "            root.destroy()\n",
    "        del value\n",
    "    except NameError as e:\n",
    "        value = 0 \n",
    "        \n",
    "root = tk.Tk()\n",
    "\n",
    "window_height = 100\n",
    "window_width = 500\n",
    "\n",
    "screen_width = root.winfo_screenwidth()\n",
    "screen_height = root.winfo_screenheight()\n",
    "\n",
    "x_cordinate = int((screen_width/2) - (window_width/2))\n",
    "y_cordinate = int((screen_height/2) - (window_height/2))\n",
    "\n",
    "root.geometry(\"{}x{}+{}+{}\".format(window_width, window_height, x_cordinate, y_cordinate))\n",
    "root.title('Modality Selection')\n",
    "v = tk.IntVar(value=0) # start with the values of one of the buttons\n",
    "tk.Label(root, text=\"\"\"Choose an input modality to plot the predictions\"\"\",\n",
    "        justify = tk.LEFT, padx=20).pack()\n",
    "rb1 = tk.Radiobutton(root, text=\"Only EEG\", padx=20, variable=v, value=0, command=getit).pack(anchor=tk.W)\n",
    "rb2 = tk.Radiobutton(root, text=\"EEG & EMG\", padx=20, variable=v, value=3, command=getit).pack(anchor=tk.W)\n",
    "rb3 = tk.Radiobutton(root, text=\"EEG & Force\", padx=20, variable=v, value=4, command=getit).pack(anchor=tk.W)\n",
    "rb4 = tk.Radiobutton(root, text=\"All\", padx=20, variable=v, value=-1, command=getit).pack(anchor=tk.W)\n",
    "b = tk.Button(root, text=\"Submit\", command=printit).pack(anchor=tk.W)\n",
    "\n",
    "root.mainloop()"
   ]
  },
  {
   "cell_type": "code",
   "execution_count": 13,
   "metadata": {
    "scrolled": true
   },
   "outputs": [],
   "source": [
    "patient_id = 4\n",
    "trial_id = 9"
   ]
  },
  {
   "cell_type": "markdown",
   "metadata": {},
   "source": [
    "### Predictions in Time Domain via IFWT (Skip to the next section to use the pickled forecasted time series)"
   ]
  },
  {
   "cell_type": "code",
   "execution_count": 14,
   "metadata": {},
   "outputs": [],
   "source": [
    "results_for_eeg = 0\n",
    "results_for_emg = 1\n",
    "results_for_force = 2\n",
    "results_for_eegemg = 3\n",
    "results_for_eegforce = 4\n",
    "results_for_emgforce = 5\n",
    "results_for_all = -1"
   ]
  },
  {
   "cell_type": "markdown",
   "metadata": {},
   "source": [
    "Only EEG"
   ]
  },
  {
   "cell_type": "code",
   "execution_count": 15,
   "metadata": {},
   "outputs": [
    {
     "data": {
      "application/vnd.jupyter.widget-view+json": {
       "model_id": "bd37c91ebd344ca88c872baf59ddcc5b",
       "version_major": 2,
       "version_minor": 0
      },
      "text/plain": [
       "HBox(children=(IntProgress(value=0, max=11), HTML(value='')))"
      ]
     },
     "metadata": {},
     "output_type": "display_data"
    },
    {
     "name": "stdout",
     "output_type": "stream",
     "text": [
      "\n"
     ]
    }
   ],
   "source": [
    "forecasted_eeg_intime = []\n",
    "for i, subject in enumerate(tqdm_notebook(f_list[results_for_eeg], ascii=True)):\n",
    "    subject_pred = []\n",
    "    for j, trial in enumerate(subject):\n",
    "        M = len(trial.iloc[:,0])\n",
    "        N = len(pywt.idwt(np.zeros(M), trial.iloc[:,0], 'db4'))\n",
    "        trial_pred = pd.DataFrame(index=np.arange(N), columns=columns[0:14])\n",
    "        for t, k in enumerate(trial_pred):\n",
    "            trial_pred[k] = pywt.idwt(trial.iloc[:,t], np.zeros(M), 'db4')\n",
    "        subject_pred.append(trial_pred)\n",
    "    forecasted_eeg_intime.append(subject_pred)    \n",
    "    \n",
    "with open('VARResults/forecasted_eeg_intime.dat', \"wb\") as f:\n",
    "    pickle.dump(forecasted_eeg_intime, f)"
   ]
  },
  {
   "cell_type": "markdown",
   "metadata": {},
   "source": [
    "Only Force"
   ]
  },
  {
   "cell_type": "code",
   "execution_count": 16,
   "metadata": {},
   "outputs": [
    {
     "data": {
      "application/vnd.jupyter.widget-view+json": {
       "model_id": "28d687f1715e41b9b9dccbce6fe1f7c4",
       "version_major": 2,
       "version_minor": 0
      },
      "text/plain": [
       "HBox(children=(IntProgress(value=0, max=11), HTML(value='')))"
      ]
     },
     "metadata": {},
     "output_type": "display_data"
    },
    {
     "name": "stdout",
     "output_type": "stream",
     "text": [
      "\n"
     ]
    }
   ],
   "source": [
    "forecasted_force_intime = []\n",
    "for i, subject in enumerate(tqdm_notebook(f_list[results_for_force], ascii=True)):\n",
    "    subject_pred = []\n",
    "    for j, trial in enumerate(subject):\n",
    "        M = len(trial.iloc[:,0])\n",
    "        N = len(pywt.idwt(np.zeros(M), trial.iloc[:,0], 'db4'))\n",
    "        trial_pred = pd.DataFrame(index=np.arange(N), columns=columns[0:3])\n",
    "        for t, k in enumerate(trial_pred):\n",
    "            trial_pred[k] = pywt.idwt(trial.iloc[:,t], np.zeros(M), 'db4')\n",
    "        subject_pred.append(trial_pred)\n",
    "    forecasted_force_intime.append(subject_pred)    \n",
    "    \n",
    "with open('VARResults/forecasted_force_intime.dat', \"wb\") as f:\n",
    "    pickle.dump(forecasted_force_intime, f)"
   ]
  },
  {
   "cell_type": "markdown",
   "metadata": {},
   "source": [
    "EEG & EMG"
   ]
  },
  {
   "cell_type": "code",
   "execution_count": 17,
   "metadata": {},
   "outputs": [
    {
     "data": {
      "application/vnd.jupyter.widget-view+json": {
       "model_id": "c4b5b9689ec64bebb69265a1db502c27",
       "version_major": 2,
       "version_minor": 0
      },
      "text/plain": [
       "HBox(children=(IntProgress(value=0, max=11), HTML(value='')))"
      ]
     },
     "metadata": {},
     "output_type": "display_data"
    },
    {
     "name": "stdout",
     "output_type": "stream",
     "text": [
      "\n"
     ]
    }
   ],
   "source": [
    "forecasted_eegemg_intime = []\n",
    "for i, subject in enumerate(tqdm_notebook(f_list[results_for_eegemg], ascii=True)):\n",
    "    subject_pred = []\n",
    "    for j, trial in enumerate(subject):\n",
    "        M = len(trial.iloc[:,0])\n",
    "        N = len(pywt.idwt(np.zeros(M), trial.iloc[:,0], 'db4'))\n",
    "        trial_pred = pd.DataFrame(index=np.arange(N), columns=columns[0:14])\n",
    "        for t, k in enumerate(trial_pred):\n",
    "            trial_pred[k] = pywt.idwt(trial.iloc[:,t], np.zeros(M), 'db4')\n",
    "        subject_pred.append(trial_pred)\n",
    "    forecasted_eegemg_intime.append(subject_pred)    \n",
    "    \n",
    "with open('VARResults/forecasted_eegemg_intime.dat', \"wb\") as f:\n",
    "    pickle.dump(forecasted_eegemg_intime, f)"
   ]
  },
  {
   "cell_type": "markdown",
   "metadata": {},
   "source": [
    "EEG & Force"
   ]
  },
  {
   "cell_type": "code",
   "execution_count": 18,
   "metadata": {},
   "outputs": [
    {
     "data": {
      "application/vnd.jupyter.widget-view+json": {
       "model_id": "2e636b093448463c9bd7df98dddebd6a",
       "version_major": 2,
       "version_minor": 0
      },
      "text/plain": [
       "HBox(children=(IntProgress(value=0, max=11), HTML(value='')))"
      ]
     },
     "metadata": {},
     "output_type": "display_data"
    },
    {
     "name": "stdout",
     "output_type": "stream",
     "text": [
      "\n"
     ]
    }
   ],
   "source": [
    "forecasted_eegforce_intime = []\n",
    "for i, subject in enumerate(tqdm_notebook(f_list[results_for_eegforce], ascii=True)):\n",
    "    subject_pred = []\n",
    "    for j, trial in enumerate(subject):\n",
    "        M = len(trial.iloc[:,0])\n",
    "        N = len(pywt.idwt(np.zeros(M), trial.iloc[:,0], 'db4'))\n",
    "        trial_pred = pd.DataFrame(index=np.arange(N), columns=columns[0:17])\n",
    "        for t, k in enumerate(trial_pred):\n",
    "            trial_pred[k] = pywt.idwt(trial.iloc[:,t], np.zeros(M), 'db4')\n",
    "        subject_pred.append(trial_pred)\n",
    "    forecasted_eegforce_intime.append(subject_pred)    \n",
    "    \n",
    "with open('VARResults/forecasted_eegforce_intime.dat', \"wb\") as f:\n",
    "    pickle.dump(forecasted_eegforce_intime, f)"
   ]
  },
  {
   "cell_type": "markdown",
   "metadata": {},
   "source": [
    "EMG & Force"
   ]
  },
  {
   "cell_type": "code",
   "execution_count": 19,
   "metadata": {},
   "outputs": [
    {
     "data": {
      "application/vnd.jupyter.widget-view+json": {
       "model_id": "714ca205ea98476b9b0e54c783ff7fe2",
       "version_major": 2,
       "version_minor": 0
      },
      "text/plain": [
       "HBox(children=(IntProgress(value=0, max=11), HTML(value='')))"
      ]
     },
     "metadata": {},
     "output_type": "display_data"
    },
    {
     "name": "stdout",
     "output_type": "stream",
     "text": [
      "\n"
     ]
    }
   ],
   "source": [
    "forecasted_emgforce_intime = []\n",
    "for i, subject in enumerate(tqdm_notebook(f_list[results_for_emgforce], ascii=True)):\n",
    "    subject_pred = []\n",
    "    for j, trial in enumerate(subject):\n",
    "        M = len(trial.iloc[:,0])\n",
    "        N = len(pywt.idwt(np.zeros(M), trial.iloc[:,0], 'db4'))\n",
    "        trial_pred = pd.DataFrame(index=np.arange(N), columns=columns[0:3])\n",
    "        for t, k in enumerate(trial_pred):\n",
    "            trial_pred[k] = pywt.idwt(trial.iloc[:,28+t], np.zeros(M), 'db4')\n",
    "        subject_pred.append(trial_pred)\n",
    "    forecasted_emgforce_intime.append(subject_pred)    \n",
    "    \n",
    "with open('VARResults/forecasted_emgforce_intime.dat', \"wb\") as f:\n",
    "    pickle.dump(forecasted_emgforce_intime, f)"
   ]
  },
  {
   "cell_type": "markdown",
   "metadata": {},
   "source": [
    "EEG & EMG & Force"
   ]
  },
  {
   "cell_type": "code",
   "execution_count": 20,
   "metadata": {},
   "outputs": [
    {
     "data": {
      "application/vnd.jupyter.widget-view+json": {
       "model_id": "0eb85664dd2c43409f44a8fae28bf3dd",
       "version_major": 2,
       "version_minor": 0
      },
      "text/plain": [
       "HBox(children=(IntProgress(value=0, max=11), HTML(value='')))"
      ]
     },
     "metadata": {},
     "output_type": "display_data"
    },
    {
     "name": "stdout",
     "output_type": "stream",
     "text": [
      "\n"
     ]
    }
   ],
   "source": [
    "forecasted_all_intime = []\n",
    "for i, subject in enumerate(tqdm_notebook(f_list[results_for_all], ascii=True)):\n",
    "    subject_pred = []\n",
    "    for j, trial in enumerate(subject):\n",
    "        M = len(trial.iloc[:,0])\n",
    "        N = len(pywt.idwt(np.zeros(M), trial.iloc[:,0], 'db4'))\n",
    "        trial_pred = pd.DataFrame(index=np.arange(N), columns=columns[0:17])\n",
    "        trial = trial.iloc[:,list(range(0,14,1))+list(range(42,45,1))]\n",
    "        for t, k in enumerate(trial_pred):\n",
    "            trial_pred[k] = pywt.idwt(trial.iloc[:,t], np.zeros(M), 'db4')\n",
    "        subject_pred.append(trial_pred)\n",
    "    forecasted_all_intime.append(subject_pred)    \n",
    "    \n",
    "with open('VARResults/forecasted_all_intime.dat', \"wb\") as f:\n",
    "    pickle.dump(forecasted_all_intime, f)"
   ]
  },
  {
   "cell_type": "markdown",
   "metadata": {},
   "source": [
    "Load The Pickled s_list"
   ]
  },
  {
   "cell_type": "code",
   "execution_count": null,
   "metadata": {},
   "outputs": [],
   "source": [
    "with open('VARResults/forecasted_eeg_intime.dat', \"rb\") as f:\n",
    "    forecasted_eeg_intime = pickle.load(f)\n",
    "    \n",
    "with open('VARResults/forecasted_force_intime.dat', \"rb\") as f:\n",
    "    forecasted_force_intime = pickle.load(f)\n",
    "    \n",
    "with open('VARResults/forecasted_eegemg_intime.dat', \"rb\") as f:\n",
    "    forecasted_eegemg_intime = pickle.load(f)\n",
    "    \n",
    "with open('VARResults/forecasted_eegforce_intime.dat', \"rb\") as f:\n",
    "    forecasted_eegforce_intime = pickle.load(f)\n",
    "    \n",
    "with open('VARResults/forecasted_emgforce_intime.dat', \"rb\") as f:\n",
    "    forecasted_emgforce_intime = pickle.load(f)\n",
    "    \n",
    "with open('VARResults/forecasted_all_intime.dat', \"rb\") as f:\n",
    "    forecasted_all_intime = pickle.load(f)"
   ]
  },
  {
   "cell_type": "code",
   "execution_count": 21,
   "metadata": {},
   "outputs": [],
   "source": [
    "# place 0 for emg forecasts in time\n",
    "s_list = [forecasted_eeg_intime, 0, forecasted_force_intime, forecasted_eegemg_intime, \n",
    "          forecasted_eegforce_intime, forecasted_emgforce_intime,\n",
    "          forecasted_all_intime]"
   ]
  },
  {
   "cell_type": "markdown",
   "metadata": {},
   "source": [
    "### Visualizing Predictions Over Test Data in Time Domain"
   ]
  },
  {
   "cell_type": "code",
   "execution_count": 22,
   "metadata": {},
   "outputs": [],
   "source": [
    "patient_id = 10\n",
    "trial_id = 55"
   ]
  },
  {
   "cell_type": "code",
   "execution_count": 23,
   "metadata": {
    "scrolled": false
   },
   "outputs": [
    {
     "data": {
      "image/png": "[encoded data removed]",
      "text/plain": [
       "<Figure size 1008x1728 with 15 Axes>"
      ]
     },
     "metadata": {},
     "output_type": "display_data"
    }
   ],
   "source": [
    "# Plot the predictions in time domain given thresholded DWT coeffs \n",
    "# for different combinations of eeg+emg+force:\n",
    "\n",
    "# For nPreds = 150 in wavelet domain, nPreds = 194 in freq domain!!\n",
    "nPreds = 194\n",
    "\n",
    "sns.set(style=\"white\", palette=\"muted\", color_codes=True, font_scale=1.5)\n",
    "# Set up the matplotlib figure (all forecasts subplot figure)\n",
    "f, axes = plt.subplots(5, 3, figsize=(14, 24), sharex=False, sharey=False)\n",
    "sns.despine()\n",
    "\n",
    "modality = v.get()\n",
    "T = math.floor(10*(nPreds+P)/fs) + 1\n",
    "\n",
    "if T != 1:\n",
    "    z = [decimal.Decimal(i) / decimal.Decimal(10) for i in range(0, T)]\n",
    "else:\n",
    "    T = math.floor(100*(nPreds+P)/fs) + 1\n",
    "    z = [decimal.Decimal(i) / decimal.Decimal(100) for i in range(0, T, 2)]\n",
    "    \n",
    "plt.setp(axes, xticks=z, xticklabels=z)\n",
    "\n",
    "# 2 subtracted because of the extra wavelet coeff. in the second resolution level\n",
    "x_gt = np.arange(0, (nPreds+2*P)/fs, 1/fs) \n",
    "x_pred = np.arange(2*P/fs, (nPreds+2*P)/fs, 1/fs)\n",
    "\n",
    "for j in range(1,15,1):\n",
    "    sns.set()\n",
    "    axes[math.floor((j-1)/3),(j-1)%3].plot(x_gt, test_data[patient_id][trial_id].iloc[:nPreds+2*P,j-1].values, \n",
    "                                           color='b', label=\"True\")\n",
    "    axes[math.floor((j-1)/3), (j-1)%3].plot(x_pred, \n",
    "                                            s_list[modality][patient_id][trial_id].iloc[:nPreds,j-1].values, \n",
    "                                            color='r', linestyle='--', label=\"Prediction\")\n",
    "    axes[math.floor((j-1)/3), (j-1)%3].axvline(x=2*P/fs, linestyle='--', color='k')\n",
    "    axes[math.floor((j-1)/3), (j-1)%3].title.set_text(\"EEG-%i\" %j)\n",
    "    axes[math.floor((j-1)/3), (j-1)%3].set_yticks(axes[math.floor((j-1)/3), (j-1)%3].get_yticks()[1:-1:2])\n",
    "    #axes[0, 0].legend(frameon=False)\n",
    "    #plt.setp(axes[0, 0].get_legend().get_texts(), fontsize='14')\n",
    "\n",
    "if modality in [results_for_all, results_for_eegforce]: #force predictions exist\n",
    "    axes[4,2].plot(x_gt, test_data[patient_id][trial_id].iloc[:nPreds+2*P, -1].values, \n",
    "                   color='b', label=\"True\")\n",
    "    axes[4,2].plot(x_pred, s_list[modality][patient_id][trial_id].iloc[:nPreds, -1].values, \n",
    "                   color='r', linestyle='--', label=\"Prediction\")\n",
    "    axes[4,2].axvline(x=2*P/fs, linestyle='--', color='k')\n",
    "    axes[4,2].ticklabel_format(axis='y', style='sci', scilimits=(4,-4))\n",
    "    axes[4,2].title.set_text(\"Force-z\")\n",
    "    axes[4,2].set_yticks(axes[4, 2].get_yticks()[1:-1:2])\n",
    "    #axes[4,2].legend() \n",
    "\n",
    "plt.savefig(\"VARResults/predictions_timeDomain.pdf\", bbox_inches=\"tight\")"
   ]
  },
  {
   "cell_type": "markdown",
   "metadata": {},
   "source": [
    "### Displaying Goodness of Fit Performance for Different Input Combinations (Skip to the next section to use pickled data)"
   ]
  },
  {
   "cell_type": "code",
   "execution_count": 24,
   "metadata": {},
   "outputs": [
    {
     "data": {
      "application/vnd.jupyter.widget-view+json": {
       "model_id": "53d1caaaa51740c69de1d11597201da6",
       "version_major": 2,
       "version_minor": 0
      },
      "text/plain": [
       "HBox(children=(IntProgress(value=0, max=11), HTML(value='')))"
      ]
     },
     "metadata": {},
     "output_type": "display_data"
    },
    {
     "name": "stdout",
     "output_type": "stream",
     "text": [
      "\n"
     ]
    }
   ],
   "source": [
    "'''\n",
    "Return the mean absolute percentage error between the true signal and prediction\n",
    "https://en.wikipedia.org/wiki/Mean_absolute_percentage_error\n",
    "'''\n",
    "def find_mape(true, pred):\n",
    "    return 100 * np.mean(np.abs((true-pred)/true))\n",
    "\n",
    "eeg_ind = list(range(0,14,1))\n",
    "\n",
    "# evaluate and save the rmse for each patient:\n",
    "for participant_id in tqdm_notebook(range(num_participants), ascii=True):\n",
    "\n",
    "    ###### RMSE for only EEG prediction ######\n",
    "    eeg_errs = []\n",
    "    for i, test_trial in enumerate(test_data[participant_id]):\n",
    "        sum_eeg_err = 0\n",
    "        for j in eeg_ind:\n",
    "            # i, which is 1 sample for each trial,\n",
    "            # because the reconstructed signal is 1 sample longer than the original\n",
    "            sum_eeg_err += np.sqrt(mse(test_trial.iloc[8*P:nPreds+8*P-2, j].values, \n",
    "                                   s_list[0][participant_id][i].iloc[2:nPreds, j].values))\n",
    "        eeg_errs.append(sum_eeg_err / num_eeg_ch)\n",
    "\n",
    "    # Save the RMSE as a dataframe:\n",
    "    err_df = pd.DataFrame({'eeg': np.asarray(eeg_errs)})\n",
    "    err_df.to_pickle(\"VARResults/err_bars_forEEGOnly_id%i.pkl\" %(participant_id+1))\n",
    "\n",
    "\n",
    "    ###### RMSE for only FORCE prediction ######\n",
    "    force_errs = []\n",
    "    for i, test_trial in enumerate(test_data[participant_id]):\n",
    "        force_errs.append(np.sqrt(mse(test_trial.iloc[8*P:nPreds+8*P-2, -1].values, \n",
    "                                      s_list[2][participant_id][i].iloc[2:nPreds, -1].values)))\n",
    "\n",
    "    # Save the RMSE as a dataframe:\n",
    "    err_df = pd.DataFrame({'force': np.asarray(force_errs)})\n",
    "    err_df.to_pickle(\"VARResults/err_bars_forForceOnly_id%i.pkl\" %(participant_id+1))\n",
    "\n",
    "\n",
    "    ###### RMSE for EEG and FORCE prediction ######\n",
    "    eeg_errs, force_errs = [], []\n",
    "    for i, test_trial in enumerate(test_data[participant_id]):\n",
    "        sum_eeg_err = 0\n",
    "        for j in eeg_ind:\n",
    "            # i, which is 1 sample for each trial,\n",
    "            # because the reconstructed signal is 1 sample longer than the original\n",
    "            sum_eeg_err += np.sqrt(mse(test_trial.iloc[8*P:nPreds+8*P-2, j].values, \n",
    "                                       s_list[4][participant_id][i].iloc[2:nPreds, j].values))\n",
    "        eeg_errs.append(sum_eeg_err / num_eeg_ch)   \n",
    "        force_errs.append(np.sqrt(mse(test_trial.iloc[8*P:nPreds+8*P-2, -1].values, \n",
    "                                      s_list[4][participant_id][i].iloc[2:nPreds, -1].values))) \n",
    "\n",
    "    # Save the RMSE as a dataframe:\n",
    "    err_df = pd.DataFrame({'eeg': np.asarray(eeg_errs),\n",
    "                           'force': np.asarray(force_errs)})\n",
    "    err_df.to_pickle(\"VARResults/err_bars_forEEGandForce_id%i.pkl\" %(participant_id+1))\n",
    "\n",
    "\n",
    "    ###### RMSE for EMG and FORCE prediction ######\n",
    "    force_errs = []\n",
    "    for i, test_trial in enumerate(test_data[participant_id]):\n",
    "        force_errs.append(np.sqrt(mse(test_trial.iloc[8*P:nPreds+8*P-2, -1].values, \n",
    "                                      s_list[5][participant_id][i].iloc[2:nPreds, -1].values))) \n",
    "\n",
    "    # Save the RMSE as a dataframe:\n",
    "    err_df = pd.DataFrame({'force': np.asarray(force_errs)})\n",
    "    err_df.to_pickle(\"VARResults/err_bars_forEMGandForce_id%i.pkl\" %(participant_id+1))\n",
    "\n",
    "\n",
    "    # RMSE for EEG and EMG prediction\n",
    "    eeg_errs = []\n",
    "    for i, test_trial in enumerate(test_data[participant_id]):\n",
    "        sum_eeg_err = 0\n",
    "        for j in eeg_ind:\n",
    "            sum_eeg_err += np.sqrt(mse(test_trial.iloc[8*P:nPreds+8*P-2, j].values, \n",
    "                                       s_list[3][participant_id][i].iloc[2:nPreds, j].values))\n",
    "        eeg_errs.append(sum_eeg_err / num_eeg_ch)\n",
    "\n",
    "    # Save the RMSE as a dataframe:\n",
    "    err_df = pd.DataFrame({'eeg': np.asarray(eeg_errs)})\n",
    "    err_df.to_pickle(\"VARResults/err_bars_forEEGandEMG_id%i.pkl\" %(participant_id+1))\n",
    "\n",
    "\n",
    "    # RMSE for ALL modalities (EEG, EMG and FORCE prediction)\n",
    "    eeg_errs, force_errs = [], []\n",
    "    for i, test_trial in enumerate(test_data[participant_id]):\n",
    "        sum_eeg_err = 0\n",
    "        for j in eeg_ind:\n",
    "            # i, which is 1 sample for each trial,\n",
    "            # because the reconstructed signal is 1 sample longer than the original\n",
    "            sum_eeg_err += np.sqrt(mse(test_trial.iloc[8*P:nPreds+8*P-2, j].values, \n",
    "                                       s_list[-1][participant_id][i].iloc[2:nPreds, j].values))\n",
    "        eeg_errs.append(sum_eeg_err / num_eeg_ch)   \n",
    "        force_errs.append(np.sqrt(mse(test_trial.iloc[8*P:nPreds+8*P-2, -1].values, \n",
    "                                      s_list[-1][participant_id][i].iloc[2:nPreds, -1].values)))\n",
    "\n",
    "    # Save the RMSE as a dataframe:\n",
    "    err_df = pd.DataFrame({'eeg': np.asarray(eeg_errs),\n",
    "                           'force': np.asarray(force_errs)})\n",
    "    err_df.to_pickle(\"VARResults/err_bars_forAll_id%i.pkl\" %(participant_id+1))"
   ]
  },
  {
   "cell_type": "markdown",
   "metadata": {},
   "source": [
    "### Pre-computed Error Data "
   ]
  },
  {
   "cell_type": "code",
   "execution_count": 25,
   "metadata": {
    "scrolled": false
   },
   "outputs": [
    {
     "data": {
      "image/png": "[encoded data removed]",
      "text/plain": [
       "<Figure size 576x1728 with 22 Axes>"
      ]
     },
     "metadata": {},
     "output_type": "display_data"
    }
   ],
   "source": [
    "onlyEEG_errs = []\n",
    "onlyForce_errs = []\n",
    "EEGandForce_errs = []\n",
    "EMGandForce_errs = []\n",
    "EEGandEMG_errs = []\n",
    "all_errs = []\n",
    "force_box_plot = []\n",
    "eeg_box_plot = []\n",
    "\n",
    "for i in range(num_participants):\n",
    "    onlyEEG_errs.append(pd.read_pickle(\"VARResults/err_bars_forEEGOnly_id%i.pkl\" %(i+1)))\n",
    "    onlyForce_errs.append(pd.read_pickle(\"VARResults/err_bars_forForceOnly_id%i.pkl\" %(i+1)))\n",
    "    EEGandForce_errs.append(pd.read_pickle(\"VARResults/err_bars_forEEGandForce_id%i.pkl\" %(i+1)))\n",
    "    EMGandForce_errs.append(pd.read_pickle(\"VARResults/err_bars_forEMGandForce_id%i.pkl\" %(i+1)))\n",
    "    EEGandEMG_errs.append(pd.read_pickle(\"VARResults/err_bars_forEEGandEMG_id%i.pkl\" %(i+1)))\n",
    "    all_errs.append(pd.read_pickle(\"VARResults/err_bars_forAll_id%i.pkl\" %(i+1)))\n",
    "\n",
    "    force_box_plot.append(pd.DataFrame({'Only Force': onlyForce_errs[-1]['force'].values, \n",
    "                                        'EEG & Force': EEGandForce_errs[-1]['force'].values, \n",
    "                                        'Force & EMG': EMGandForce_errs[-1]['force'].values, \n",
    "                                        'All': all_errs[-1]['force'].values}))\n",
    "    eeg_box_plot.append(pd.DataFrame({'Only EEG': onlyEEG_errs[-1]['eeg'].values,\n",
    "                                      'EEG & Force': EEGandForce_errs[-1]['eeg'].values,\n",
    "                                      'EEG & EMG': EEGandEMG_errs[-1]['eeg'].values,\n",
    "                                      'All': all_errs[-1]['eeg'].values}))\n",
    "\n",
    "sns.set(style=\"whitegrid\", font_scale=1)\n",
    "# Set up the matplotlib figure\n",
    "f, axes = plt.subplots(num_participants, 2, figsize=(8, 24), sharex=False)\n",
    "sns.despine(left=True)\n",
    "\n",
    "sns.boxplot(data=eeg_box_plot[i], showfliers=False, ax=axes[0,0]).set_title('RMSE: EEG Predictions')\n",
    "sns.boxplot(data=force_box_plot[i], showfliers=False, ax=axes[0,1]).set_title('RMSE: Force Predictions')\n",
    "axes[0,0].set_ylabel('User %s' %str(1))\n",
    "\n",
    "for i in range(1, num_participants):\n",
    "    sns.boxplot(data=eeg_box_plot[i], showfliers=False, ax=axes[i,0])\n",
    "    sns.boxplot(data=force_box_plot[i], showfliers=False, ax=axes[i,1])\n",
    "    axes[i,0].set_ylabel('User %s' %str(i+1))\n",
    "\n",
    "for idx, ax in enumerate(axes.flatten()):\n",
    "    if idx < 2*(num_participants-1): ax.set_xticklabels([])\n",
    "    else: ax.set_xticklabels(ax.get_xticklabels(), rotation=30, ha=\"right\")  \n",
    "    ax.yaxis.set_major_formatter(FormatStrFormatter('%.1f'))\n",
    "\n",
    "path = \"VARResults/error_boxes.pdf\"\n",
    "plt.savefig(path, bbox_inches=\"tight\")"
   ]
  },
  {
   "cell_type": "markdown",
   "metadata": {},
   "source": [
    "# Wilcoxon Rank-Sum Test"
   ]
  },
  {
   "cell_type": "raw",
   "metadata": {},
   "source": [
    "Under the null hypthesis, the distributions of both populations are equal.\n",
    "Under the alternative hypothesis, the distributions are not equal.\n",
    "We apply one-sided right-tailed test\n",
    "If p-value is less than the critical val (0.025-heuristically chosen), null hypothesis is rejected."
   ]
  },
  {
   "cell_type": "code",
   "execution_count": 26,
   "metadata": {},
   "outputs": [
    {
     "data": {
      "text/html": [
       "<div>\n",
       "<style scoped>\n",
       "    .dataframe tbody tr th:only-of-type {\n",
       "        vertical-align: middle;\n",
       "    }\n",
       "\n",
       "    .dataframe tbody tr th {\n",
       "        vertical-align: top;\n",
       "    }\n",
       "\n",
       "    .dataframe thead th {\n",
       "        text-align: right;\n",
       "    }\n",
       "</style>\n",
       "<table border=\"1\" class=\"dataframe\">\n",
       "  <thead>\n",
       "    <tr style=\"text-align: right;\">\n",
       "      <th></th>\n",
       "      <th>eeg_eegforce</th>\n",
       "      <th>eeg_eegemg</th>\n",
       "      <th>force_eegforce</th>\n",
       "      <th>force_emgforce</th>\n",
       "      <th>eegforce_all</th>\n",
       "      <th>eegemg_all</th>\n",
       "      <th>emgforce_all</th>\n",
       "    </tr>\n",
       "  </thead>\n",
       "  <tbody>\n",
       "    <tr>\n",
       "      <th>P1</th>\n",
       "      <td>6.81075e-51</td>\n",
       "      <td>0.494177</td>\n",
       "      <td>7.70606e-52</td>\n",
       "      <td>0.499078</td>\n",
       "      <td>0.496791</td>\n",
       "      <td>6.93404e-51</td>\n",
       "      <td>7.8469e-52</td>\n",
       "    </tr>\n",
       "    <tr>\n",
       "      <th>P2</th>\n",
       "      <td>8.80997e-09</td>\n",
       "      <td>0.497171</td>\n",
       "      <td>9.39272e-09</td>\n",
       "      <td>0.498202</td>\n",
       "      <td>0.49889</td>\n",
       "      <td>9.00806e-09</td>\n",
       "      <td>9.58714e-09</td>\n",
       "    </tr>\n",
       "    <tr>\n",
       "      <th>P3</th>\n",
       "      <td>0.0970851</td>\n",
       "      <td>0.497873</td>\n",
       "      <td>0.0967618</td>\n",
       "      <td>0.487735</td>\n",
       "      <td>0.49248</td>\n",
       "      <td>0.0988175</td>\n",
       "      <td>0.0988798</td>\n",
       "    </tr>\n",
       "    <tr>\n",
       "      <th>P4</th>\n",
       "      <td>5.45321e-32</td>\n",
       "      <td>0.491353</td>\n",
       "      <td>1.64917e-31</td>\n",
       "      <td>0.498083</td>\n",
       "      <td>0.497909</td>\n",
       "      <td>5.47228e-32</td>\n",
       "      <td>1.64631e-31</td>\n",
       "    </tr>\n",
       "    <tr>\n",
       "      <th>P5</th>\n",
       "      <td>2.92686e-39</td>\n",
       "      <td>0.495972</td>\n",
       "      <td>2.29367e-39</td>\n",
       "      <td>0.495634</td>\n",
       "      <td>0.494511</td>\n",
       "      <td>3.11195e-39</td>\n",
       "      <td>2.46102e-39</td>\n",
       "    </tr>\n",
       "    <tr>\n",
       "      <th>P6</th>\n",
       "      <td>1.09898e-72</td>\n",
       "      <td>0.492943</td>\n",
       "      <td>1.05866e-72</td>\n",
       "      <td>0.499401</td>\n",
       "      <td>0.497101</td>\n",
       "      <td>1.1135e-72</td>\n",
       "      <td>1.0459e-72</td>\n",
       "    </tr>\n",
       "    <tr>\n",
       "      <th>P7</th>\n",
       "      <td>1.0631e-08</td>\n",
       "      <td>0.49705</td>\n",
       "      <td>1.70053e-08</td>\n",
       "      <td>0.496175</td>\n",
       "      <td>0.498725</td>\n",
       "      <td>1.09692e-08</td>\n",
       "      <td>1.7283e-08</td>\n",
       "    </tr>\n",
       "    <tr>\n",
       "      <th>P8</th>\n",
       "      <td>1.75069e-10</td>\n",
       "      <td>0.498445</td>\n",
       "      <td>1.81066e-10</td>\n",
       "      <td>0.495291</td>\n",
       "      <td>0.497469</td>\n",
       "      <td>1.78008e-10</td>\n",
       "      <td>1.8403e-10</td>\n",
       "    </tr>\n",
       "    <tr>\n",
       "      <th>P9</th>\n",
       "      <td>0.00200344</td>\n",
       "      <td>0.49683</td>\n",
       "      <td>0.00185572</td>\n",
       "      <td>0.444243</td>\n",
       "      <td>0.484041</td>\n",
       "      <td>0.00200903</td>\n",
       "      <td>0.00189995</td>\n",
       "    </tr>\n",
       "    <tr>\n",
       "      <th>P10</th>\n",
       "      <td>0.0810769</td>\n",
       "      <td>0.497047</td>\n",
       "      <td>0.0842823</td>\n",
       "      <td>0.497422</td>\n",
       "      <td>0.498309</td>\n",
       "      <td>0.0810361</td>\n",
       "      <td>0.0844923</td>\n",
       "    </tr>\n",
       "    <tr>\n",
       "      <th>P11</th>\n",
       "      <td>6.07157e-26</td>\n",
       "      <td>0.498664</td>\n",
       "      <td>4.12653e-26</td>\n",
       "      <td>0.497008</td>\n",
       "      <td>0.498847</td>\n",
       "      <td>6.35567e-26</td>\n",
       "      <td>4.30616e-26</td>\n",
       "    </tr>\n",
       "  </tbody>\n",
       "</table>\n",
       "</div>"
      ],
      "text/plain": [
       "    eeg_eegforce eeg_eegemg force_eegforce force_emgforce eegforce_all  \\\n",
       "P1   6.81075e-51   0.494177    7.70606e-52       0.499078     0.496791   \n",
       "P2   8.80997e-09   0.497171    9.39272e-09       0.498202      0.49889   \n",
       "P3     0.0970851   0.497873      0.0967618       0.487735      0.49248   \n",
       "P4   5.45321e-32   0.491353    1.64917e-31       0.498083     0.497909   \n",
       "P5   2.92686e-39   0.495972    2.29367e-39       0.495634     0.494511   \n",
       "P6   1.09898e-72   0.492943    1.05866e-72       0.499401     0.497101   \n",
       "P7    1.0631e-08    0.49705    1.70053e-08       0.496175     0.498725   \n",
       "P8   1.75069e-10   0.498445    1.81066e-10       0.495291     0.497469   \n",
       "P9    0.00200344    0.49683     0.00185572       0.444243     0.484041   \n",
       "P10    0.0810769   0.497047      0.0842823       0.497422     0.498309   \n",
       "P11  6.07157e-26   0.498664    4.12653e-26       0.497008     0.498847   \n",
       "\n",
       "      eegemg_all emgforce_all  \n",
       "P1   6.93404e-51   7.8469e-52  \n",
       "P2   9.00806e-09  9.58714e-09  \n",
       "P3     0.0988175    0.0988798  \n",
       "P4   5.47228e-32  1.64631e-31  \n",
       "P5   3.11195e-39  2.46102e-39  \n",
       "P6    1.1135e-72   1.0459e-72  \n",
       "P7   1.09692e-08   1.7283e-08  \n",
       "P8   1.78008e-10   1.8403e-10  \n",
       "P9    0.00200903   0.00189995  \n",
       "P10    0.0810361    0.0844923  \n",
       "P11  6.35567e-26  4.30616e-26  "
      ]
     },
     "execution_count": 26,
     "metadata": {},
     "output_type": "execute_result"
    }
   ],
   "source": [
    "onlyEEG_errs = []\n",
    "onlyForce_errs = []\n",
    "EEGandForce_errs = []\n",
    "EMGandForce_errs = []\n",
    "EEGandEMG_errs = []\n",
    "all_errs = []\n",
    "force_box_plot = []\n",
    "eeg_box_plot = []\n",
    "\n",
    "keys = [\"eeg_eegforce\", \"eeg_eegemg\", \"force_eegforce\", \"force_emgforce\", \n",
    "        \"eegforce_all\", \"eegemg_all\", \"emgforce_all\"]\n",
    "rows = ['P%i' %(i+1) for i in range(num_participants)]\n",
    "wilcox_df = pd.DataFrame(index=rows, columns=keys)\n",
    "\n",
    "for i in range(num_participants):\n",
    "    onlyEEG_errs.append(pd.read_pickle(\"VARResults/err_bars_forEEGOnly_id%i.pkl\" %(i+1)))\n",
    "    onlyForce_errs.append(pd.read_pickle(\"VARResults/err_bars_forForceOnly_id%i.pkl\" %(i+1)))\n",
    "    EEGandForce_errs.append(pd.read_pickle(\"VARResults/err_bars_forEEGandForce_id%i.pkl\" %(i+1)))\n",
    "    EMGandForce_errs.append(pd.read_pickle(\"VARResults/err_bars_forEMGandForce_id%i.pkl\" %(i+1)))\n",
    "    EEGandEMG_errs.append(pd.read_pickle(\"VARResults/err_bars_forEEGandEMG_id%i.pkl\" %(i+1)))\n",
    "    all_errs.append(pd.read_pickle(\"VARResults/err_bars_forAll_id%i.pkl\" %(i+1)))   \n",
    "    \n",
    "    wilcox_df.loc[rows[i],\"eeg_eegforce\"] = ranksums(onlyEEG_errs[-1].values.reshape(-1,), \n",
    "                                                     EEGandForce_errs[-1].values.reshape(-1,))[1]/2\n",
    "    wilcox_df.loc[rows[i],\"eeg_eegemg\"] = ranksums(onlyEEG_errs[-1].values.reshape(-1,),\n",
    "                                                   EEGandEMG_errs[-1].values.reshape(-1,))[1]/2\n",
    "    wilcox_df.loc[rows[i],\"force_eegforce\"] = ranksums(onlyForce_errs[-1].values.reshape(-1,), \n",
    "                                                       EEGandForce_errs[-1].values.reshape(-1,))[1]/2\n",
    "    wilcox_df.loc[rows[i],\"force_emgforce\"] = ranksums(onlyForce_errs[-1].values.reshape(-1,), \n",
    "                                                       EMGandForce_errs[-1].values.reshape(-1,))[1]/2\n",
    "    wilcox_df.loc[rows[i],\"eegforce_all\"] = ranksums(EEGandForce_errs[-1].values.reshape(-1,), \n",
    "                                                     all_errs[-1].values.reshape(-1,))[1]/2\n",
    "    wilcox_df.loc[rows[i],\"eegemg_all\"] = ranksums(EEGandEMG_errs[-1].values.reshape(-1,), \n",
    "                                                   all_errs[-1].values.reshape(-1,))[1]/2\n",
    "    wilcox_df.loc[rows[i],\"emgforce_all\"] = ranksums(EMGandForce_errs[-1].values.reshape(-1,), \n",
    "                                                     all_errs[-1].values.reshape(-1,))[1]/2\n",
    "wilcox_df"
   ]
  },
  {
   "cell_type": "markdown",
   "metadata": {},
   "source": [
    "# Continuous Wavelet Transform and Scaleograms"
   ]
  },
  {
   "cell_type": "code",
   "execution_count": null,
   "metadata": {
    "scrolled": true
   },
   "outputs": [],
   "source": [
    "wavelet_type = 'morl'\n",
    "fig, axes = plt.subplots(3, figsize=(12,20))\n",
    "fig.subplots_adjust(hspace=0.3)\n",
    "for i, signal in enumerate([eeg_signal_1, emg_signal_1, force_signal_3]):\n",
    "    scales = np.arange(1,len(eeg_signal_1+1))\n",
    "    coef_matrix, freqs = pywt.cwt(signal, scales, wavelet_type, sampling_period=dt)\n",
    "    power = (abs(coef_matrix)) ** 2\n",
    "    levels = [0.0078125, 0.015625 ,0.03125, 0.0625, 0.125, 0.25, 0.5, 1, 2, 4, 8, 16, 32, 64]\n",
    "    contourlevels = np.log2(levels)\n",
    "    im = axes[i].contourf(time, freqs, np.log2(power), contourlevels, \n",
    "                          extend='both',cmap=plt.cm.seismic)\n",
    "    #axes[i].matshow(coef_matrix) \n",
    "    axes[i].set_ylabel('Approximate Frequency [Hz]', fontsize=16)\n",
    "    axes[i].set_xlim(time.min(), time.max())\n",
    "    if i == 0:\n",
    "        axes[i].set_title('CWT with Time vs Frequency - EEG Channel 1', fontsize=16)\n",
    "    elif i == 1:\n",
    "        axes[i].set_title('CWT with Time vs Frequency - EMG Channel 1', fontsize=16)\n",
    "    else:\n",
    "        axes[i].set_title('CWT with Time vs Frequency - Force Channel 3', fontsize=16)\n",
    "        axes[i].set_xlabel('Time (sec)', fontsize=16)\n",
    "    yticks = np.arange(0, round(freqs.max()/100)*100, step=100)\n",
    "    axes[i].set_yticks(yticks)\n",
    "\n",
    "plt.show()"
   ]
  },
  {
   "cell_type": "code",
   "execution_count": null,
   "metadata": {},
   "outputs": [],
   "source": []
  }
 ],
 "metadata": {
  "kernelspec": {
   "display_name": "haptix",
   "language": "python",
   "name": "haptix"
  },
  "language_info": {
   "codemirror_mode": {
    "name": "ipython",
    "version": 3
   },
   "file_extension": ".py",
   "mimetype": "text/x-python",
   "name": "python",
   "nbconvert_exporter": "python",
   "pygments_lexer": "ipython3",
   "version": "3.7.5"
  }
 },
 "nbformat": 4,
 "nbformat_minor": 2
}
