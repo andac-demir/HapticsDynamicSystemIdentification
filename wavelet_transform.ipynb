{
 "cells": [
  {
   "cell_type": "markdown",
   "metadata": {},
   "source": [
    "# Fast Wavelet Transformation (FWT) Implementation"
   ]
  },
  {
   "cell_type": "code",
   "execution_count": 1,
   "metadata": {},
   "outputs": [],
   "source": [
    "import numpy as np\n",
    "from math import log, ceil, floor\n",
    "import pywt   "
   ]
  },
  {
   "cell_type": "code",
   "execution_count": 2,
   "metadata": {},
   "outputs": [],
   "source": [
    "def nextPowerOf2(n): \n",
    "    count = 0; \n",
    "    if (n and not(n & (n - 1))): \n",
    "        return n       \n",
    "    while( n != 0): \n",
    "        n >>= 1\n",
    "        count += 1     \n",
    "    return 1 << count;  "
   ]
  },
  {
   "cell_type": "markdown",
   "metadata": {},
   "source": [
    "### Haar One Level"
   ]
  },
  {
   "cell_type": "code",
   "execution_count": 3,
   "metadata": {},
   "outputs": [],
   "source": [
    "def haarOneLevel(g):\n",
    "    L = int(len(g)/2)\n",
    "    G_low, G_high = np.zeros(L), np.zeros(L)\n",
    "    for i in range(L):\n",
    "        v0, v1 = g[2*i], g[2*i+1]\n",
    "        G_low[i] = (v0 + v1)/np.sqrt(2.0)\n",
    "        G_high[i] = (v0 - v1)/np.sqrt(2.0)\n",
    "    return G_low, G_high\n",
    "\n",
    "def haarOneLevelInverse(G):\n",
    "    L = int(len(G))\n",
    "    g = np.zeros((L))\n",
    "    for i in range(L//2):\n",
    "        v0, v1 = G[i], G[i+int(L/2)]\n",
    "        g[2*i] = (v0 + v1)/np.sqrt(2.0)\n",
    "        g[2*i+1] = (v0 - v1)/np.sqrt(2.0)\n",
    "    return g"
   ]
  },
  {
   "cell_type": "markdown",
   "metadata": {},
   "source": [
    "### Daubechies-4 (D4) Tap"
   ]
  },
  {
   "cell_type": "code",
   "execution_count": 4,
   "metadata": {},
   "outputs": [],
   "source": [
    "def db4(g):\n",
    "    L = int(len(g))\n",
    "    l0 = (1+np.sqrt(3))/(4*np.sqrt(2))\n",
    "    l1 = (3+np.sqrt(3))/(4*np.sqrt(2))\n",
    "    l2 = (3-np.sqrt(3))/(4*np.sqrt(2))\n",
    "    l3 = (1-np.sqrt(3))/(4*np.sqrt(2))\n",
    "    h0, h1, h2, h3 = l3, -l2, l1, -l0\n",
    "\n",
    "    G_low, G_high = np.zeros(L//2), np.zeros(L//2)\n",
    "    for i in range(0, len(g), 2):\n",
    "        G_low[i//2] = g[i]*l0 + g[i+1]*l1 + g[(i+2)%L]*l2 + g[(i+3)%L]*l3\n",
    "        G_high[i//2] = g[i]*h0 + g[i+1]*h1 + g[(i+2)%L]*h2 + g[(i+3)%L]*h3\n",
    "   \n",
    "    return G_low, G_high  \n",
    "\n",
    "def db4Inverse(G):\n",
    "    L = int(len(G))\n",
    "    l0 = (1+np.sqrt(3))/(4*np.sqrt(2))\n",
    "    l1 = (3+np.sqrt(3))/(4*np.sqrt(2))\n",
    "    l2 = (3-np.sqrt(3))/(4*np.sqrt(2))\n",
    "    l3 = (1-np.sqrt(3))/(4*np.sqrt(2))\n",
    "    h0, h1, h2, h3 = l3, -l2, l1, -l0\n",
    "\n",
    "    g = np.zeros((L))\n",
    "    for i in range(L//2):\n",
    "        g[2*i] = G[i-2]*l2 + G[i-2+L//2]*h2 + G[i-1]*l0 + G[i-1+L//2]*h0\n",
    "        g[2*i+1] = G[i-2]*l3 + G[i-2+L//2]*h3 + G[i-1]*l1 + G[i-1+L//2]*h1\n",
    "   \n",
    "    return g"
   ]
  },
  {
   "cell_type": "markdown",
   "metadata": {},
   "source": [
    "fwt implementation using recursion"
   ]
  },
  {
   "cell_type": "code",
   "execution_count": 5,
   "metadata": {},
   "outputs": [],
   "source": [
    "def fwt(g, mode='haar'):\n",
    "    if mode == 'haar':\n",
    "        G_low, G_high = haarOneLevel(g)\n",
    "        if len(g) == 2:\n",
    "            return np.concatenate((G_low, G_high))\n",
    "        else:\n",
    "            return np.concatenate((fwt(G_low), G_high))  \n",
    "    \n",
    "    if mode == 'db4':\n",
    "        G_low, G_high = db4(g)\n",
    "        if len(g) == 4:\n",
    "            return np.concatenate((G_low, G_high))\n",
    "        else:\n",
    "            return np.concatenate((fwt(G_low, 'db4'), G_high)) "
   ]
  },
  {
   "cell_type": "code",
   "execution_count": 6,
   "metadata": {},
   "outputs": [],
   "source": [
    "def ifwt(G, mode='haar'):\n",
    "    if mode == 'haar':\n",
    "        L = int(log(len(G),2))\n",
    "        first_half = G[:2**1]\n",
    "        for i in range(1, L):\n",
    "            first_half = haarOneLevelInverse(first_half)\n",
    "            second_half = G[2**i:2**(i+1)]   \n",
    "            first_half = np.concatenate((first_half, second_half))\n",
    "        return haarOneLevelInverse(first_half)\n",
    "    \n",
    "    if mode == 'db4':\n",
    "        L = int(log(len(G),2))-1\n",
    "        first_half = G[:4**1]\n",
    "        for i in range(1, L):\n",
    "            first_half = db4Inverse(first_half)\n",
    "            second_half = G[4**i:4**(i+1)]   \n",
    "            first_half = np.concatenate((first_half, second_half))\n",
    "        return db4Inverse(first_half)"
   ]
  },
  {
   "cell_type": "code",
   "execution_count": 7,
   "metadata": {},
   "outputs": [],
   "source": [
    "# Function to check \n",
    "# Log base 2 \n",
    "def Log2(x): \n",
    "    if x == 0: \n",
    "        return false; \n",
    "  \n",
    "    return (log(x) / log(2)); \n",
    "  \n",
    "# Function to check \n",
    "# if x is power of 2 \n",
    "def isPowerOfTwo(n): \n",
    "    return (ceil(Log2(n)) == floor(Log2(n)))"
   ]
  },
  {
   "cell_type": "markdown",
   "metadata": {},
   "source": [
    "### Demo - Power of 2 (Haar)"
   ]
  },
  {
   "cell_type": "code",
   "execution_count": 8,
   "metadata": {},
   "outputs": [
    {
     "data": {
      "text/plain": [
       "array([10.96015511, -3.18198052,  2.5       , -1.        , -4.24264069,\n",
       "        2.12132034,  0.70710678, -4.94974747])"
      ]
     },
     "execution_count": 8,
     "metadata": {},
     "output_type": "execute_result"
    }
   ],
   "source": [
    "g = np.array([1,7,3,0,5,4,2,9])\n",
    "G = fwt(g)\n",
    "G"
   ]
  },
  {
   "cell_type": "code",
   "execution_count": 9,
   "metadata": {},
   "outputs": [
    {
     "data": {
      "text/plain": [
       "array([ 1.00000000e+00,  7.00000000e+00,  3.00000000e+00, -3.14018492e-16,\n",
       "        5.00000000e+00,  4.00000000e+00,  2.00000000e+00,  9.00000000e+00])"
      ]
     },
     "execution_count": 9,
     "metadata": {},
     "output_type": "execute_result"
    }
   ],
   "source": [
    "ifwt(G)"
   ]
  },
  {
   "cell_type": "markdown",
   "metadata": {},
   "source": [
    "### Demo - Nearest Power of 2 (Haar)"
   ]
  },
  {
   "cell_type": "code",
   "execution_count": 10,
   "metadata": {},
   "outputs": [],
   "source": [
    "g = np.array([1,7,3,0,5,2,0])\n",
    "L = len(g)\n",
    "if isPowerOfTwo(L) == False:\n",
    "    num_pads = nextPowerOf2(L) - L\n",
    "    g = np.concatenate((g, np.zeros(num_pads)))\n",
    "else:\n",
    "    num_pads = 0"
   ]
  },
  {
   "cell_type": "code",
   "execution_count": 11,
   "metadata": {},
   "outputs": [
    {
     "data": {
      "text/plain": [
       "array([ 6.36396103,  1.41421356,  2.5       ,  3.5       , -4.24264069,\n",
       "        2.12132034,  2.12132034])"
      ]
     },
     "execution_count": 11,
     "metadata": {},
     "output_type": "execute_result"
    }
   ],
   "source": [
    "G = fwt(g)\n",
    "G[:] if num_pads == 0 else G[:-num_pads]"
   ]
  },
  {
   "cell_type": "code",
   "execution_count": 12,
   "metadata": {},
   "outputs": [
    {
     "data": {
      "text/plain": [
       "array([ 1.00000000e+00,  7.00000000e+00,  3.00000000e+00, -6.28036983e-16,\n",
       "        5.00000000e+00,  2.00000000e+00, -4.44089210e-16])"
      ]
     },
     "execution_count": 12,
     "metadata": {},
     "output_type": "execute_result"
    }
   ],
   "source": [
    "g = ifwt(G)\n",
    "g[:-num_pads]"
   ]
  },
  {
   "cell_type": "code",
   "execution_count": 13,
   "metadata": {},
   "outputs": [
    {
     "name": "stdout",
     "output_type": "stream",
     "text": [
      "[5.65685425 2.12132034 4.94974747 0.        ] [-4.24264069  2.12132034  2.12132034  0.        ]\n"
     ]
    }
   ],
   "source": [
    "cA, cD = pywt.dwt([1,7,3,0,5,2,0], 'haar')\n",
    "print(cA, cD)"
   ]
  },
  {
   "cell_type": "code",
   "execution_count": 14,
   "metadata": {},
   "outputs": [
    {
     "name": "stdout",
     "output_type": "stream",
     "text": [
      "[5.65685425 2.12132034 4.94974747 0.        ] [-4.24264069  2.12132034  2.12132034  0.        ]\n"
     ]
    }
   ],
   "source": [
    "cA, cD = pywt.dwt([1,7,3,0,5,2,0], 'haar')\n",
    "print(cA, cD)"
   ]
  },
  {
   "cell_type": "markdown",
   "metadata": {},
   "source": [
    "### Demo - Nearest Power of 2 (D4)"
   ]
  },
  {
   "cell_type": "code",
   "execution_count": 15,
   "metadata": {},
   "outputs": [],
   "source": [
    "g = np.array([1,1,4,4,0,0,1,1])\n",
    "L = len(g)\n",
    "if isPowerOfTwo(L) == False:\n",
    "    num_pads = nextPowerOf2(L) - L\n",
    "    g = np.concatenate((g, np.zeros(num_pads)))\n",
    "else:\n",
    "    num_pads = 0"
   ]
  },
  {
   "cell_type": "code",
   "execution_count": 16,
   "metadata": {},
   "outputs": [
    {
     "data": {
      "text/plain": [
       "array([ 5.07355716e+00,  9.26442841e-01, -2.00656986e+00, -1.45753175e+00,\n",
       "        1.06066017e+00, -1.41421356e+00,  3.53553391e-01, -1.11022302e-16])"
      ]
     },
     "execution_count": 16,
     "metadata": {},
     "output_type": "execute_result"
    }
   ],
   "source": [
    "G = fwt(g, 'db4')\n",
    "G[:] if num_pads == 0 else G[:-num_pads]"
   ]
  },
  {
   "cell_type": "code",
   "execution_count": 17,
   "metadata": {},
   "outputs": [
    {
     "data": {
      "text/plain": [
       "array([ 2.1472754 , -2.56518375,  5.00739109,  0.10518829, -0.01105716,\n",
       "       -3.60584844, -0.51428313,  3.71388157])"
      ]
     },
     "execution_count": 17,
     "metadata": {},
     "output_type": "execute_result"
    }
   ],
   "source": [
    "g = ifwt(G, 'db4')\n",
    "g[:] if num_pads == 0 else g[:-num_pads]"
   ]
  },
  {
   "cell_type": "code",
   "execution_count": null,
   "metadata": {},
   "outputs": [],
   "source": []
  }
 ],
 "metadata": {
  "kernelspec": {
   "display_name": "Python 3",
   "language": "python",
   "name": "python3"
  },
  "language_info": {
   "codemirror_mode": {
    "name": "ipython",
    "version": 3
   },
   "file_extension": ".py",
   "mimetype": "text/x-python",
   "name": "python",
   "nbconvert_exporter": "python",
   "pygments_lexer": "ipython3",
   "version": "3.7.5"
  }
 },
 "nbformat": 4,
 "nbformat_minor": 2
}
