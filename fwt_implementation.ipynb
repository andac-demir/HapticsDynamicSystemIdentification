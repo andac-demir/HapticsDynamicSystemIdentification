{
 "cells": [
  {
   "cell_type": "markdown",
   "metadata": {},
   "source": [
    "# Fast Wavelet Transformation (FWT) Implementation For Maximum Decomposition Level with Haar and Daubechies Wavelets"
   ]
  },
  {
   "cell_type": "code",
   "execution_count": null,
   "metadata": {},
   "outputs": [],
   "source": [
    "import numpy as np\n",
    "from math import log, ceil, floor\n",
    "import pywt   "
   ]
  },
  {
   "cell_type": "code",
   "execution_count": null,
   "metadata": {},
   "outputs": [],
   "source": [
    "def nextPowerOf2(n): \n",
    "    count = 0; \n",
    "    if (n and not(n & (n - 1))): \n",
    "        return n       \n",
    "    while( n != 0): \n",
    "        n >>= 1\n",
    "        count += 1     \n",
    "    return 1 << count;  "
   ]
  },
  {
   "cell_type": "markdown",
   "metadata": {},
   "source": [
    "### Haar One Level"
   ]
  },
  {
   "cell_type": "code",
   "execution_count": null,
   "metadata": {},
   "outputs": [],
   "source": [
    "def haarOneLevel(g):\n",
    "    L = int(len(g)/2)\n",
    "    G_low, G_high = np.zeros(L), np.zeros(L)\n",
    "    for i in range(L):\n",
    "        v0, v1 = g[2*i], g[2*i+1]\n",
    "        G_low[i] = (v0 + v1)/np.sqrt(2.0)\n",
    "        G_high[i] = (v0 - v1)/np.sqrt(2.0)\n",
    "    return G_low, G_high\n",
    "\n",
    "def haarOneLevelInverse(G):\n",
    "    L = int(len(G))\n",
    "    g = np.zeros((L))\n",
    "    for i in range(L//2):\n",
    "        v0, v1 = G[i], G[i+int(L/2)]\n",
    "        g[2*i] = (v0 + v1)/np.sqrt(2.0)\n",
    "        g[2*i+1] = (v0 - v1)/np.sqrt(2.0)\n",
    "    return g"
   ]
  },
  {
   "cell_type": "markdown",
   "metadata": {},
   "source": [
    "### Daubechies-4 (D4) Tap"
   ]
  },
  {
   "cell_type": "code",
   "execution_count": null,
   "metadata": {},
   "outputs": [],
   "source": [
    "def db4(g):\n",
    "    L = int(len(g))\n",
    "    l0 = (1+np.sqrt(3))/(4*np.sqrt(2))\n",
    "    l1 = (3+np.sqrt(3))/(4*np.sqrt(2))\n",
    "    l2 = (3-np.sqrt(3))/(4*np.sqrt(2))\n",
    "    l3 = (1-np.sqrt(3))/(4*np.sqrt(2))\n",
    "    h0, h1, h2, h3 = l3, -l2, l1, -l0\n",
    "\n",
    "    G_low, G_high = np.zeros(L//2), np.zeros(L//2)\n",
    "    for i in range(0, len(g), 2):\n",
    "        G_low[i//2] = g[i]*l0 + g[i+1]*l1 + g[(i+2)%L]*l2 + g[(i+3)%L]*l3\n",
    "        G_high[i//2] = g[i]*h0 + g[i+1]*h1 + g[(i+2)%L]*h2 + g[(i+3)%L]*h3\n",
    "   \n",
    "    return G_low, G_high  \n",
    "\n",
    "def db4Inverse(G):\n",
    "    L = int(len(G))\n",
    "    l0 = (1+np.sqrt(3))/(4*np.sqrt(2))\n",
    "    l1 = (3+np.sqrt(3))/(4*np.sqrt(2))\n",
    "    l2 = (3-np.sqrt(3))/(4*np.sqrt(2))\n",
    "    l3 = (1-np.sqrt(3))/(4*np.sqrt(2))\n",
    "    h0, h1, h2, h3 = l3, -l2, l1, -l0\n",
    "\n",
    "    g = np.zeros((L))\n",
    "    for i in range(0, len(g), 2):\n",
    "        g[i] = G[i]*l0 + G[i+1]*l3 + G[(i-2)%L]*l2 + G[(i-1)%L]*l1\n",
    "        g[i+1] = G[i]*h2 + G[i+1]*h1 + G[(i-2)%L]*h0 + G[(i-1)%L]*h3  \n",
    "    return g\n",
    "\n",
    "\n",
    "# Test\n",
    "cA_level1, cD_level1 = db4(np.array([1,1,4,4,0,0,1,1]))\n",
    "print(cA_level1)\n",
    "print(cD_level1)\n",
    "cA_level2, cD_level2 = db4(cA_level1)\n",
    "print(cA_level2)\n",
    "# returns cA_level1\n",
    "print(db4Inverse([cA_level2[0], cD_level2[0], cA_level2[1], cD_level2[1]]))\n",
    "# returns original signal\n",
    "print(db4Inverse([cA_level1[0], cD_level1[0], cA_level1[1], cD_level1[1], \n",
    "                  cA_level1[2], cD_level1[2], cA_level1[3], cD_level1[3]]))"
   ]
  },
  {
   "cell_type": "markdown",
   "metadata": {},
   "source": [
    "fwt implementation using recursion"
   ]
  },
  {
   "cell_type": "code",
   "execution_count": null,
   "metadata": {},
   "outputs": [],
   "source": [
    "def fwt(g, mode='haar'):\n",
    "    if mode == 'haar':\n",
    "        G_low, G_high = haarOneLevel(g)\n",
    "        if len(g) == 2:\n",
    "            return np.concatenate((G_low, G_high))\n",
    "        else:\n",
    "            return np.concatenate((fwt(G_low), G_high))  \n",
    "    \n",
    "    if mode == 'db4':\n",
    "        G_low, G_high = db4(g)\n",
    "        if len(g) == 4:\n",
    "            return np.concatenate((G_low, G_high))\n",
    "        else:\n",
    "            return np.concatenate((fwt(G_low, 'db4'), G_high)) "
   ]
  },
  {
   "cell_type": "code",
   "execution_count": null,
   "metadata": {},
   "outputs": [],
   "source": [
    "def ifwt(G, mode='haar'):\n",
    "    if mode == 'haar':\n",
    "        L = int(log(len(G),2))\n",
    "        first_half = G[:2**1]\n",
    "        for i in range(1, L):\n",
    "            first_half = haarOneLevelInverse(first_half)\n",
    "            second_half = G[2**i:2**(i+1)]   \n",
    "            first_half = np.concatenate((first_half, second_half))\n",
    "        return haarOneLevelInverse(first_half)\n",
    "    \n",
    "    if mode == 'db4':\n",
    "        L = int(log(len(G),2))-1\n",
    "        first_half = [G[i] for i in [0,2,1,3]]\n",
    "        for i in range(1, L):\n",
    "            first_half = db4Inverse(first_half)\n",
    "            second_half = G[4**i:4**(i+1)] \n",
    "            temp = np.zeros(2*len(first_half))\n",
    "            for i, (x, y) in enumerate(zip(first_half, second_half)):\n",
    "                temp[2*i] = x\n",
    "                temp[2*i+1] = y\n",
    "            first_half = temp\n",
    "        return db4Inverse(first_half)"
   ]
  },
  {
   "cell_type": "code",
   "execution_count": null,
   "metadata": {},
   "outputs": [],
   "source": [
    "# Function to check \n",
    "# Log base 2 \n",
    "def Log2(x): \n",
    "    if x == 0: \n",
    "        return false; \n",
    "  \n",
    "    return (log(x) / log(2)); \n",
    "  \n",
    "# Function to check \n",
    "# if x is power of 2 \n",
    "def isPowerOfTwo(n): \n",
    "    return (ceil(Log2(n)) == floor(Log2(n)))"
   ]
  },
  {
   "cell_type": "markdown",
   "metadata": {},
   "source": [
    "### Demo - Power of 2 (Haar)"
   ]
  },
  {
   "cell_type": "code",
   "execution_count": null,
   "metadata": {},
   "outputs": [],
   "source": [
    "g = np.array([1,7,3,0,5,4,2,9])\n",
    "G = fwt(g)\n",
    "G"
   ]
  },
  {
   "cell_type": "code",
   "execution_count": null,
   "metadata": {},
   "outputs": [],
   "source": [
    "ifwt(G)"
   ]
  },
  {
   "cell_type": "markdown",
   "metadata": {},
   "source": [
    "### Demo - Nearest Power of 2 (Haar)"
   ]
  },
  {
   "cell_type": "code",
   "execution_count": null,
   "metadata": {},
   "outputs": [],
   "source": [
    "g = np.array([1,7,3,0,5,2,0])\n",
    "L = len(g)\n",
    "if isPowerOfTwo(L) == False:\n",
    "    num_pads = nextPowerOf2(L) - L\n",
    "    g = np.concatenate((g, np.zeros(num_pads)))\n",
    "else:\n",
    "    num_pads = 0"
   ]
  },
  {
   "cell_type": "code",
   "execution_count": null,
   "metadata": {},
   "outputs": [],
   "source": [
    "G = fwt(g)\n",
    "G[:] if num_pads == 0 else G[:-num_pads]"
   ]
  },
  {
   "cell_type": "code",
   "execution_count": null,
   "metadata": {},
   "outputs": [],
   "source": [
    "g = ifwt(G)\n",
    "g[:-num_pads]"
   ]
  },
  {
   "cell_type": "code",
   "execution_count": null,
   "metadata": {},
   "outputs": [],
   "source": [
    "cA, cD = pywt.dwt([1,7,3,0,5,2,0], 'haar')\n",
    "print(cA, cD)"
   ]
  },
  {
   "cell_type": "code",
   "execution_count": null,
   "metadata": {},
   "outputs": [],
   "source": [
    "cA, cD = pywt.dwt([1,7,3,0,5,2,0], 'haar')\n",
    "print(cA, cD)"
   ]
  },
  {
   "cell_type": "markdown",
   "metadata": {},
   "source": [
    "### Demo - Nearest Power of 2 (D4)"
   ]
  },
  {
   "cell_type": "code",
   "execution_count": null,
   "metadata": {},
   "outputs": [],
   "source": [
    "g = np.array([1,1,4,4,0,0,1,1])\n",
    "L = len(g)\n",
    "if isPowerOfTwo(L) == False:\n",
    "    num_pads = nextPowerOf2(L) - L\n",
    "    g = np.concatenate((g, np.zeros(num_pads)))\n",
    "else:\n",
    "    num_pads = 0"
   ]
  },
  {
   "cell_type": "code",
   "execution_count": null,
   "metadata": {},
   "outputs": [],
   "source": [
    "G = fwt(g, 'db4')\n",
    "G[:] if num_pads == 0 else G[:-num_pads]\n",
    "# G_ll[0], G_ll[1], G_hl[0], G_hl[1], G_h[0], G_h[1], G_h[2], G_h[3]"
   ]
  },
  {
   "cell_type": "code",
   "execution_count": null,
   "metadata": {},
   "outputs": [],
   "source": [
    "g = ifwt(G, 'db4')\n",
    "g[:] if num_pads == 0 else g[:-num_pads]"
   ]
  }
 ],
 "metadata": {
  "kernelspec": {
   "display_name": "Python 3",
   "language": "python",
   "name": "python3"
  },
  "language_info": {
   "codemirror_mode": {
    "name": "ipython",
    "version": 3
   },
   "file_extension": ".py",
   "mimetype": "text/x-python",
   "name": "python",
   "nbconvert_exporter": "python",
   "pygments_lexer": "ipython3",
   "version": "3.6.9"
  }
 },
 "nbformat": 4,
 "nbformat_minor": 2
}
